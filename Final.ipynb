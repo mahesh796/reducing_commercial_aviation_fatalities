{
 "cells": [
  {
   "cell_type": "code",
   "execution_count": 1,
   "metadata": {
    "id": "L8aIyK_ynfuy"
   },
   "outputs": [],
   "source": [
    "import pickle\n",
    "import pandas as pd\n",
    "import timeit\n",
    "import scipy\n",
    "from scipy import signal\n",
    "import numpy as np\n",
    "import tensorflow as tf \n",
    "from sklearn.metrics import confusion_matrix\n",
    "from sklearn.model_selection import train_test_split\n",
    "import seaborn as sns\n",
    "import matplotlib.pyplot as plt\n",
    "from sklearn.metrics import f1_score\n",
    "from sklearn.metrics import log_loss \n",
    "import warnings\n",
    "warnings.filterwarnings(\"ignore\")"
   ]
  },
  {
   "cell_type": "code",
   "execution_count": 2,
   "metadata": {
    "id": "QU6cIYP8pccQ"
   },
   "outputs": [],
   "source": [
    "#!unzip Pickle_eda*.zip\n",
    "#!unzip train.csv*.zip"
   ]
  },
  {
   "cell_type": "code",
   "execution_count": 3,
   "metadata": {
    "colab": {
     "base_uri": "https://localhost:8080/",
     "height": 117
    },
    "id": "B8TKzXfgrJVd",
    "outputId": "1e2d44ec-989c-4d1b-93d5-fd71b1714926"
   },
   "outputs": [
    {
     "name": "stdout",
     "output_type": "stream",
     "text": [
      "(4867421, 25)\n"
     ]
    },
    {
     "data": {
      "text/html": [
       "<div>\n",
       "<style scoped>\n",
       "    .dataframe tbody tr th:only-of-type {\n",
       "        vertical-align: middle;\n",
       "    }\n",
       "\n",
       "    .dataframe tbody tr th {\n",
       "        vertical-align: top;\n",
       "    }\n",
       "\n",
       "    .dataframe thead th {\n",
       "        text-align: right;\n",
       "    }\n",
       "</style>\n",
       "<table border=\"1\" class=\"dataframe\">\n",
       "  <thead>\n",
       "    <tr style=\"text-align: right;\">\n",
       "      <th></th>\n",
       "      <th>crew</th>\n",
       "      <th>seat</th>\n",
       "      <th>eeg_fp1</th>\n",
       "      <th>eeg_f7</th>\n",
       "      <th>eeg_f8</th>\n",
       "      <th>eeg_t4</th>\n",
       "      <th>eeg_t6</th>\n",
       "      <th>eeg_t5</th>\n",
       "      <th>eeg_t3</th>\n",
       "      <th>eeg_fp2</th>\n",
       "      <th>eeg_o1</th>\n",
       "      <th>eeg_p3</th>\n",
       "      <th>eeg_pz</th>\n",
       "      <th>eeg_f3</th>\n",
       "      <th>eeg_fz</th>\n",
       "      <th>eeg_f4</th>\n",
       "      <th>eeg_c4</th>\n",
       "      <th>eeg_p4</th>\n",
       "      <th>eeg_poz</th>\n",
       "      <th>eeg_c3</th>\n",
       "      <th>eeg_cz</th>\n",
       "      <th>eeg_o2</th>\n",
       "      <th>ecg</th>\n",
       "      <th>r</th>\n",
       "      <th>gsr</th>\n",
       "    </tr>\n",
       "  </thead>\n",
       "  <tbody>\n",
       "    <tr>\n",
       "      <th>0</th>\n",
       "      <td>1</td>\n",
       "      <td>1</td>\n",
       "      <td>-5.28545</td>\n",
       "      <td>26.775801</td>\n",
       "      <td>-9.52731</td>\n",
       "      <td>-12.7932</td>\n",
       "      <td>16.7178</td>\n",
       "      <td>33.737499</td>\n",
       "      <td>23.712299</td>\n",
       "      <td>-6.69587</td>\n",
       "      <td>29.2321</td>\n",
       "      <td>24.842899</td>\n",
       "      <td>3.92134</td>\n",
       "      <td>18.447001</td>\n",
       "      <td>1.07547</td>\n",
       "      <td>3.09029</td>\n",
       "      <td>37.368999</td>\n",
       "      <td>17.437599</td>\n",
       "      <td>19.2019</td>\n",
       "      <td>20.5968</td>\n",
       "      <td>-3.95115</td>\n",
       "      <td>14.5076</td>\n",
       "      <td>-4520.0</td>\n",
       "      <td>817.705994</td>\n",
       "      <td>388.829987</td>\n",
       "    </tr>\n",
       "  </tbody>\n",
       "</table>\n",
       "</div>"
      ],
      "text/plain": [
       "   crew  seat  eeg_fp1     eeg_f7  ...   eeg_o2     ecg           r         gsr\n",
       "0     1     1 -5.28545  26.775801  ...  14.5076 -4520.0  817.705994  388.829987\n",
       "\n",
       "[1 rows x 25 columns]"
      ]
     },
     "execution_count": 3,
     "metadata": {
      "tags": []
     },
     "output_type": "execute_result"
    }
   ],
   "source": [
    "data=pd.read_csv('train.csv')\n",
    "data=data.drop('time',axis=1) \n",
    "data=data.drop('experiment',axis=1) \n",
    "encoder= {'A':0,'B':1,'C':2,'D':3}\n",
    "data['event'] =data['event'].apply(lambda x: encoder[x])\n",
    "y_data=data['event'].values\n",
    "data=data.drop('event',axis=1)\n",
    "print(data.shape)\n",
    "data.head(1)"
   ]
  },
  {
   "cell_type": "markdown",
   "metadata": {
    "id": "HvVVhOZseF7q"
   },
   "source": [
    "**Train test split**"
   ]
  },
  {
   "cell_type": "code",
   "execution_count": 4,
   "metadata": {
    "colab": {
     "base_uri": "https://localhost:8080/"
    },
    "id": "V8j-Jt1yeFPZ",
    "outputId": "5f568569-aaf1-4121-f3b6-b30b163fd6ab"
   },
   "outputs": [
    {
     "name": "stdout",
     "output_type": "stream",
     "text": [
      "(3650565, 25)\n",
      "(1216856, 25)\n"
     ]
    }
   ],
   "source": [
    "X_train,X_cv,y_train,y_cv=train_test_split(data,y_data,stratify=y_data,test_size=0.25,random_state=1)\n",
    "print(X_train.shape)\n",
    "print(X_cv.shape)"
   ]
  },
  {
   "cell_type": "code",
   "execution_count": 5,
   "metadata": {
    "id": "EngUFUpTw4wL"
   },
   "outputs": [],
   "source": [
    "#https://stackoverflow.com/questions/35588782/how-to-average-a-signal-to-remove-noise-with-python\n",
    "#https://docs.scipy.org/doc/scipy/reference/generated/scipy.signal.butter.html\n",
    "def remove_noise(data,f):\n",
    "    N=5    #filter order\n",
    "    Wn=f #Cutoff frequency\n",
    "    b,a = signal.butter(N,Wn,fs=256)\n",
    "    return signal.filtfilt(b,a,data)"
   ]
  },
  {
   "cell_type": "code",
   "execution_count": 6,
   "metadata": {
    "colab": {
     "base_uri": "https://localhost:8080/"
    },
    "id": "JPyYdDyufSY-",
    "outputId": "d49b7340-558b-4b2e-dc0c-d588c7fade88"
   },
   "outputs": [
    {
     "name": "stdout",
     "output_type": "stream",
     "text": [
      "WARNING:tensorflow:No training configuration found in the save file, so the model was *not* compiled. Compile it manually.\n"
     ]
    }
   ],
   "source": [
    "def final_1(X_data):\n",
    "    filtered_ecg=remove_noise(X_data['ecg'],0.5)\n",
    "    filtered_r=remove_noise(X_data['r'],0.5)\n",
    "    crew=data['crew'].values\n",
    "    seat=data['seat'].values\n",
    "    gsr=data['gsr'].values\n",
    "    train_data =pd.DataFrame(data={'crew':crew,'seat':seat,'gsr':gsr,'filtered_r':filtered_r,'filtered_ecg':filtered_ecg})                                                                     \n",
    "    eeg_features=['eeg_fp1', 'eeg_f7', 'eeg_f8',\n",
    "       'eeg_t4', 'eeg_t6', 'eeg_t5', 'eeg_t3', 'eeg_fp2', 'eeg_o1', 'eeg_p3',\n",
    "       'eeg_pz', 'eeg_f3', 'eeg_fz', 'eeg_f4', 'eeg_c4', 'eeg_p4', 'eeg_poz',\n",
    "       'eeg_c3', 'eeg_cz', 'eeg_o2']\n",
    "    pca_features= X_data.loc[:,eeg_features]\n",
    "    feature_encoder=tf.keras.models.load_model('encoder.h5')\n",
    "    feature_encoder=feature_encoder.predict(pca_features)\n",
    "    feature_encoder=pd.DataFrame(data=feature_encoder,columns=['eeg_encoder_1', 'eeg_encoder_2', 'eeg_encoder_3','eeg_encoder_4','eeg_encoder_5'])\n",
    "    pca_model=pickle.load(open(\"pca.sav\",\"rb\"))\n",
    "    Components = pca_model.transform(pca_features)\n",
    "    principalDf =pd.DataFrame(data=Components,columns=['component_1','component_2'])\n",
    "    final_data=pd.concat([train_data,feature_encoder,principalDf],axis=1) \n",
    "    features=['gsr','filtered_r','filtered_ecg','eeg_encoder_1','eeg_encoder_2','eeg_encoder_3','eeg_encoder_4','eeg_encoder_5','component_1','component_2']\n",
    "    for i in features:\n",
    "        scaler =pickle.load(open(i+\"scalar.sav\",\"rb\"))\n",
    "        final_data[i]=scaler.transform(final_data[i].values.reshape(-1, 1))\n",
    "    model=pickle.load(open(\"lgbt_model.sav\",\"rb\"))\n",
    "    prediction=model.predict(final_data)\n",
    "    predict_proba=model.predict_proba(final_data)\n",
    "    return predict_proba,prediction\n",
    "predict_proba,prediction=final_1(data)"
   ]
  },
  {
   "cell_type": "code",
   "execution_count": 7,
   "metadata": {
    "colab": {
     "base_uri": "https://localhost:8080/"
    },
    "id": "lW0yEazylcXc",
    "outputId": "7d1f85ff-307d-489e-e71a-53dcc8b9f26d"
   },
   "outputs": [
    {
     "name": "stdout",
     "output_type": "stream",
     "text": [
      "loss : 0.16693127895886148\n",
      "F1 micro score : 0.9421490353926648\n",
      "F1 macro score : 0.798824249345917\n"
     ]
    }
   ],
   "source": [
    "loss=log_loss(y_data,predict_proba)\n",
    "F1_micro=f1_score(y_data,prediction,average='micro')\n",
    "F1_macro=f1_score(y_data,prediction,average='macro')\n",
    "print('loss :',loss)\n",
    "print('F1 micro score :',F1_micro)\n",
    "print('F1 macro score :',F1_macro)"
   ]
  },
  {
   "cell_type": "code",
   "execution_count": 8,
   "metadata": {
    "colab": {
     "base_uri": "https://localhost:8080/",
     "height": 307
    },
    "id": "WeNI7wB0mheL",
    "outputId": "73990cd3-f821-4f10-c5e6-cb1de02ba29d"
   },
   "outputs": [
    {
     "name": "stdout",
     "output_type": "stream",
     "text": [
      "Confusion matrix\n"
     ]
    },
    {
     "data": {
      "image/png": "[encoded data removed]",
      "text/plain": [
       "<Figure size 432x288 with 2 Axes>"
      ]
     },
     "metadata": {
      "needs_background": "light",
      "tags": []
     },
     "output_type": "display_data"
    }
   ],
   "source": [
    "def plot_confusion_matrix(y_true,y_predict):\n",
    "    X=confusion_matrix(y_true,y_predict)\n",
    "    labels=[1,2,3,4]    \n",
    "    sns.heatmap(X,annot=True,cmap=sns.light_palette(\"red\"))\n",
    "    plt.xlabel('Predicted Class')\n",
    "    plt.ylabel('Original Class')\n",
    "    plt.show()\n",
    "print('Confusion matrix')\n",
    "plot_confusion_matrix(y_data,prediction)"
   ]
  },
  {
   "cell_type": "markdown",
   "metadata": {
    "id": "SEvQkjU7nABk"
   },
   "source": [
    "**Final** **Prediction**"
   ]
  },
  {
   "cell_type": "code",
   "execution_count": 9,
   "metadata": {
    "colab": {
     "base_uri": "https://localhost:8080/"
    },
    "id": "h6qLgM34nW3Q",
    "outputId": "15f87bb1-2656-4538-a535-2797f265c9d9"
   },
   "outputs": [
    {
     "data": {
      "text/plain": [
       "array([ 1.00000000e+00,  1.00000000e+00, -5.28545000e+00,  2.67758010e+01,\n",
       "       -9.52731000e+00, -1.27932000e+01,  1.67178000e+01,  3.37374990e+01,\n",
       "        2.37122990e+01, -6.69587000e+00,  2.92321000e+01,  2.48428990e+01,\n",
       "        3.92134000e+00,  1.84470010e+01,  1.07547000e+00,  3.09029000e+00,\n",
       "        3.73689990e+01,  1.74375990e+01,  1.92019000e+01,  2.05968000e+01,\n",
       "       -3.95115000e+00,  1.45076000e+01, -4.52000000e+03,  8.17705994e+02,\n",
       "        3.88829987e+02])"
      ]
     },
     "execution_count": 9,
     "metadata": {
      "tags": []
     },
     "output_type": "execute_result"
    }
   ],
   "source": [
    "prediction_data=data[:1].values[0]\n",
    "prediction_data"
   ]
  },
  {
   "cell_type": "code",
   "execution_count": 10,
   "metadata": {
    "colab": {
     "base_uri": "https://localhost:8080/"
    },
    "id": "ffnWnmBenyE6",
    "outputId": "c0257802-460b-4e1b-8622-a9197081c4ca"
   },
   "outputs": [
    {
     "name": "stdout",
     "output_type": "stream",
     "text": [
      "WARNING:tensorflow:No training configuration found in the save file, so the model was *not* compiled. Compile it manually.\n",
      "Time Taken 0.0018397829999230453\n",
      "Predicted state : 0\n",
      "probality of states state : [8.89500593e-01 1.00921166e-01 9.57393825e-03 4.30185346e-06]\n"
     ]
    }
   ],
   "source": [
    "def final_2(x):\n",
    "    start = timeit.timeit()\n",
    "    final_data=np.zeros(12)\n",
    "    final_data[0]=x[0]       #crew\n",
    "    final_data[1]=x[1]       #seat\n",
    "    gsr =pickle.load(open(\"gsrscalar.sav\",\"rb\"))\n",
    "    r =pickle.load(open(\"filtered_rscalar.sav\",\"rb\"))\n",
    "    ecg =pickle.load(open(\"filtered_ecgscalar.sav\",\"rb\"))\n",
    "    eeg_encoder_1 =pickle.load(open(\"eeg_encoder_1scalar.sav\",\"rb\"))\n",
    "    eeg_encoder_2 =pickle.load(open(\"eeg_encoder_2scalar.sav\",\"rb\"))\n",
    "    eeg_encoder_3 =pickle.load(open(\"eeg_encoder_3scalar.sav\",\"rb\"))\n",
    "    eeg_encoder_4 =pickle.load(open(\"eeg_encoder_4scalar.sav\",\"rb\"))\n",
    "    eeg_encoder_5 =pickle.load(open(\"eeg_encoder_5scalar.sav\",\"rb\"))\n",
    "    component_1 =pickle.load(open(\"component_1scalar.sav\",\"rb\"))\n",
    "    component_2 =pickle.load(open(\"component_2scalar.sav\",\"rb\"))\n",
    "    gsr=gsr.transform(x[-1].reshape(-1, 1))[0][0] \n",
    "    r=r.transform(x[-2].reshape(-1, 1))[0][0]\n",
    "    ecg=ecg.transform(x[-3].reshape(-1, 1))[0][0]\n",
    "    final_data[2]=gsr     #gsr\n",
    "    final_data[3]=r      #r\n",
    "    final_data[4]=ecg      #ecg\n",
    "    eeg=x[2:-3].reshape(1,-1)\n",
    "    feature_encoder=tf.keras.models.load_model('encoder.h5')\n",
    "    hidden_feature=feature_encoder.predict(eeg)[0]\n",
    "    eeg_encoder_1=eeg_encoder_1.transform(hidden_feature[0].reshape(-1, 1))[0][0] \n",
    "    eeg_encoder_2=eeg_encoder_2.transform(hidden_feature[1].reshape(-1, 1))[0][0] \n",
    "    eeg_encoder_3=eeg_encoder_3.transform(hidden_feature[2].reshape(-1, 1))[0][0] \n",
    "    eeg_encoder_4=eeg_encoder_4.transform(hidden_feature[3].reshape(-1, 1))[0][0] \n",
    "    eeg_encoder_5=eeg_encoder_5.transform(hidden_feature[4].reshape(-1, 1))[0][0] \n",
    "    final_data[5]=eeg_encoder_1\n",
    "    final_data[6]=eeg_encoder_2\n",
    "    final_data[7]=eeg_encoder_3\n",
    "    final_data[8]=eeg_encoder_4\n",
    "    final_data[9]=eeg_encoder_5\n",
    "    pca_model=pickle.load(open(\"pca.sav\",\"rb\"))\n",
    "    component=pca_model.transform(eeg)\n",
    "    component_1=component_1.transform(component[0][0].reshape(-1, 1))[0][0]\n",
    "    component_2=component_2.transform(component[0][1].reshape(-1, 1))[0][0]\n",
    "    final_data[10]=component_1\n",
    "    final_data[11]=component_2\n",
    "    model=pickle.load(open(\"lgbt_model.sav\",\"rb\"))\n",
    "    prediction=model.predict(final_data.reshape(1,-1))\n",
    "    predict_proba=model.predict_proba(final_data.reshape(1,-1))\n",
    "    end = timeit.timeit()\n",
    "    time=end-start\n",
    "    return prediction,predict_proba,time\n",
    "prediction,predict_proba,time=final_2(prediction_data)\n",
    "print(\"Time Taken\",time)\n",
    "print('Predicted state :',prediction[0])\n",
    "print('probality of states state :',predict_proba[0])"
   ]
  },
  {
   "attachments": {
    "LGBM.png": {
     "image/png": "[encoded data removed]"
    }
   },
   "cell_type": "markdown",
   "metadata": {},
   "source": [
    "![LGBM.png](attachment:LGBM.png)"
   ]
  },
  {
   "cell_type": "markdown",
   "metadata": {},
   "source": [
    "Heroku deployment link :\n",
    "https://ancient-eyrie-46230.herokuapp.com/"
   ]
  }
 ],
 "metadata": {
  "colab": {
   "collapsed_sections": [],
   "name": "Final_step.ipynb",
   "provenance": []
  },
  "kernelspec": {
   "display_name": "Python 3",
   "language": "python",
   "name": "python3"
  },
  "language_info": {
   "codemirror_mode": {
    "name": "ipython",
    "version": 3
   },
   "file_extension": ".py",
   "mimetype": "text/x-python",
   "name": "python",
   "nbconvert_exporter": "python",
   "pygments_lexer": "ipython3",
   "version": "3.7.1"
  }
 },
 "nbformat": 4,
 "nbformat_minor": 1
}
