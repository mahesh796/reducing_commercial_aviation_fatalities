{
 "cells": [
  {
   "cell_type": "code",
   "execution_count": 1,
   "metadata": {
    "id": "5ybMYDAOFzFc"
   },
   "outputs": [],
   "source": [
    "import lightgbm\n",
    "from lightgbm import LGBMClassifier\n",
    "from sklearn.linear_model import SGDClassifier\n",
    "import pandas as pd\n",
    "from sklearn.model_selection import RandomizedSearchCV\n",
    "from sklearn.preprocessing import StandardScaler\n",
    "from sklearn.metrics import f1_score\n",
    "from sklearn.metrics import log_loss\n",
    "from sklearn import preprocessing\n",
    "import pickle\n",
    "from sklearn.metrics import confusion_matrix\n",
    "import seaborn as sns\n",
    "import matplotlib.pyplot as plt\n",
    "from sklearn.model_selection import train_test_split\n",
    "from sklearn.ensemble import RandomForestClassifier\n",
    "\n",
    "import tensorflow as tf\n",
    "import tensorflow_addons as tfa\n",
    "from tensorflow.keras.models import Model\n",
    "from tensorflow.keras.layers import Input,Dense,Dropout,Flatten,Conv1D,MaxPool1D\n",
    "from tensorflow.keras.optimizers import Adam\n",
    "\n",
    "    \n",
    "import warnings\n",
    "warnings.filterwarnings(\"ignore\")"
   ]
  },
  {
   "cell_type": "code",
   "execution_count": 22,
   "metadata": {
    "id": "6SZwM05sF0yr"
   },
   "outputs": [],
   "source": [
    "#!unzip preprocessed_train_data*.zip\n",
    "#!unzip preprocessed_test_data*.zip\n",
    "#!pip install tensorflow_addons"
   ]
  },
  {
   "cell_type": "code",
   "execution_count": 11,
   "metadata": {
    "colab": {
     "base_uri": "https://localhost:8080/",
     "height": 117
    },
    "id": "kxQkq3sFrMgJ",
    "outputId": "368089d4-911f-4d8e-e36e-227d1b8312ae"
   },
   "outputs": [
    {
     "name": "stdout",
     "output_type": "stream",
     "text": [
      "(17965143, 12)\n"
     ]
    },
    {
     "data": {
      "text/html": [
       "<div>\n",
       "<style scoped>\n",
       "    .dataframe tbody tr th:only-of-type {\n",
       "        vertical-align: middle;\n",
       "    }\n",
       "\n",
       "    .dataframe tbody tr th {\n",
       "        vertical-align: top;\n",
       "    }\n",
       "\n",
       "    .dataframe thead th {\n",
       "        text-align: right;\n",
       "    }\n",
       "</style>\n",
       "<table border=\"1\" class=\"dataframe\">\n",
       "  <thead>\n",
       "    <tr style=\"text-align: right;\">\n",
       "      <th></th>\n",
       "      <th>crew</th>\n",
       "      <th>seat</th>\n",
       "      <th>gsr</th>\n",
       "      <th>filtered_r</th>\n",
       "      <th>filtered_ecg</th>\n",
       "      <th>eeg_encoder_1</th>\n",
       "      <th>eeg_encoder_2</th>\n",
       "      <th>eeg_encoder_3</th>\n",
       "      <th>eeg_encoder_4</th>\n",
       "      <th>eeg_encoder_5</th>\n",
       "      <th>component_1</th>\n",
       "      <th>component_2</th>\n",
       "    </tr>\n",
       "  </thead>\n",
       "  <tbody>\n",
       "    <tr>\n",
       "      <th>0</th>\n",
       "      <td>1</td>\n",
       "      <td>0</td>\n",
       "      <td>594.778992</td>\n",
       "      <td>682.391365</td>\n",
       "      <td>-6521.950115</td>\n",
       "      <td>38.704277</td>\n",
       "      <td>8.729989</td>\n",
       "      <td>-35.694393</td>\n",
       "      <td>-48.601486</td>\n",
       "      <td>-36.085472</td>\n",
       "      <td>7.670643</td>\n",
       "      <td>-36.690862</td>\n",
       "    </tr>\n",
       "  </tbody>\n",
       "</table>\n",
       "</div>"
      ],
      "text/plain": [
       "   crew  seat         gsr  ...  eeg_encoder_5  component_1  component_2\n",
       "0     1     0  594.778992  ...     -36.085472     7.670643   -36.690862\n",
       "\n",
       "[1 rows x 12 columns]"
      ]
     },
     "execution_count": 11,
     "metadata": {
      "tags": []
     },
     "output_type": "execute_result"
    }
   ],
   "source": [
    "test_data=pd.read_csv('preprocessed_test_data.csv')\n",
    "X_test=test_data.drop('id',axis=1)\n",
    "print(X_test.shape)\n",
    "X_test.head(1)"
   ]
  },
  {
   "cell_type": "code",
   "execution_count": 2,
   "metadata": {
    "colab": {
     "base_uri": "https://localhost:8080/",
     "height": 117
    },
    "id": "5ASUycZkF006",
    "outputId": "eb42499f-63c9-4727-8293-a85d3cc811a1"
   },
   "outputs": [
    {
     "name": "stdout",
     "output_type": "stream",
     "text": [
      "(4867421, 13)\n"
     ]
    },
    {
     "data": {
      "text/html": [
       "<div>\n",
       "<style scoped>\n",
       "    .dataframe tbody tr th:only-of-type {\n",
       "        vertical-align: middle;\n",
       "    }\n",
       "\n",
       "    .dataframe tbody tr th {\n",
       "        vertical-align: top;\n",
       "    }\n",
       "\n",
       "    .dataframe thead th {\n",
       "        text-align: right;\n",
       "    }\n",
       "</style>\n",
       "<table border=\"1\" class=\"dataframe\">\n",
       "  <thead>\n",
       "    <tr style=\"text-align: right;\">\n",
       "      <th></th>\n",
       "      <th>crew</th>\n",
       "      <th>seat</th>\n",
       "      <th>gsr</th>\n",
       "      <th>event</th>\n",
       "      <th>filtered_r</th>\n",
       "      <th>filtered_ecg</th>\n",
       "      <th>eeg_encoder_1</th>\n",
       "      <th>eeg_encoder_2</th>\n",
       "      <th>eeg_encoder_3</th>\n",
       "      <th>eeg_encoder_4</th>\n",
       "      <th>eeg_encoder_5</th>\n",
       "      <th>component_1</th>\n",
       "      <th>component_2</th>\n",
       "    </tr>\n",
       "  </thead>\n",
       "  <tbody>\n",
       "    <tr>\n",
       "      <th>0</th>\n",
       "      <td>1</td>\n",
       "      <td>1</td>\n",
       "      <td>388.829987</td>\n",
       "      <td>A</td>\n",
       "      <td>792.382457</td>\n",
       "      <td>-6808.661746</td>\n",
       "      <td>-19.271492</td>\n",
       "      <td>10.024624</td>\n",
       "      <td>-19.160746</td>\n",
       "      <td>13.541881</td>\n",
       "      <td>0.668523</td>\n",
       "      <td>-28.838463</td>\n",
       "      <td>-7.912255</td>\n",
       "    </tr>\n",
       "  </tbody>\n",
       "</table>\n",
       "</div>"
      ],
      "text/plain": [
       "   crew  seat         gsr  ... eeg_encoder_5  component_1  component_2\n",
       "0     1     1  388.829987  ...      0.668523   -28.838463    -7.912255\n",
       "\n",
       "[1 rows x 13 columns]"
      ]
     },
     "execution_count": 2,
     "metadata": {
      "tags": []
     },
     "output_type": "execute_result"
    }
   ],
   "source": [
    "data=pd.read_csv('preprocessed_train_data.csv')\n",
    "print(data.shape)\n",
    "data.head(1)"
   ]
  },
  {
   "cell_type": "code",
   "execution_count": 3,
   "metadata": {
    "id": "0_eDNE7JF03X"
   },
   "outputs": [],
   "source": [
    "encoder= {'A':0,'B':1,'C':2,'D':3}\n",
    "data['event'] = data['event'].apply(lambda x: encoder[x])\n",
    "X=data.drop('event',axis=1)\n",
    "y=data['event'].values"
   ]
  },
  {
   "cell_type": "code",
   "execution_count": 4,
   "metadata": {
    "colab": {
     "base_uri": "https://localhost:8080/"
    },
    "id": "4tYloOVZF052",
    "outputId": "52948a32-fb98-422a-e67e-2df57973bd6d"
   },
   "outputs": [
    {
     "name": "stdout",
     "output_type": "stream",
     "text": [
      "(3650565, 12)\n",
      "(1216856, 12)\n"
     ]
    }
   ],
   "source": [
    "X_train,X_cv,y_train,y_cv=train_test_split(X,y,stratify=y,test_size=0.25,random_state=1)\n",
    "print(X_train.shape)\n",
    "print(X_cv.shape)"
   ]
  },
  {
   "cell_type": "code",
   "execution_count": 12,
   "metadata": {
    "colab": {
     "base_uri": "https://localhost:8080/",
     "height": 100
    },
    "id": "QtYIagJZ9mQk",
    "outputId": "d61add9f-9d4b-4594-b428-cab23428fd31"
   },
   "outputs": [
    {
     "data": {
      "text/html": [
       "<div>\n",
       "<style scoped>\n",
       "    .dataframe tbody tr th:only-of-type {\n",
       "        vertical-align: middle;\n",
       "    }\n",
       "\n",
       "    .dataframe tbody tr th {\n",
       "        vertical-align: top;\n",
       "    }\n",
       "\n",
       "    .dataframe thead th {\n",
       "        text-align: right;\n",
       "    }\n",
       "</style>\n",
       "<table border=\"1\" class=\"dataframe\">\n",
       "  <thead>\n",
       "    <tr style=\"text-align: right;\">\n",
       "      <th></th>\n",
       "      <th>crew</th>\n",
       "      <th>seat</th>\n",
       "      <th>gsr</th>\n",
       "      <th>filtered_r</th>\n",
       "      <th>filtered_ecg</th>\n",
       "      <th>eeg_encoder_1</th>\n",
       "      <th>eeg_encoder_2</th>\n",
       "      <th>eeg_encoder_3</th>\n",
       "      <th>eeg_encoder_4</th>\n",
       "      <th>eeg_encoder_5</th>\n",
       "      <th>component_1</th>\n",
       "      <th>component_2</th>\n",
       "    </tr>\n",
       "  </thead>\n",
       "  <tbody>\n",
       "    <tr>\n",
       "      <th>1187044</th>\n",
       "      <td>3</td>\n",
       "      <td>1</td>\n",
       "      <td>-0.503785</td>\n",
       "      <td>-1.730267</td>\n",
       "      <td>0.869989</td>\n",
       "      <td>-1.303053</td>\n",
       "      <td>-0.618941</td>\n",
       "      <td>-1.413305</td>\n",
       "      <td>0.287179</td>\n",
       "      <td>0.122687</td>\n",
       "      <td>-1.5229</td>\n",
       "      <td>0.368711</td>\n",
       "    </tr>\n",
       "  </tbody>\n",
       "</table>\n",
       "</div>"
      ],
      "text/plain": [
       "         crew  seat       gsr  ...  eeg_encoder_5  component_1  component_2\n",
       "1187044     3     1 -0.503785  ...       0.122687      -1.5229     0.368711\n",
       "\n",
       "[1 rows x 12 columns]"
      ]
     },
     "execution_count": 12,
     "metadata": {
      "tags": []
     },
     "output_type": "execute_result"
    }
   ],
   "source": [
    "features=['gsr','filtered_r','filtered_ecg','eeg_encoder_1','eeg_encoder_2','eeg_encoder_3','eeg_encoder_4','eeg_encoder_5','component_1','component_2']\n",
    "for i in features:\n",
    "    scaler = StandardScaler()\n",
    "    X_train[i]=scaler.fit_transform(X_train[i].values.reshape(-1, 1))\n",
    "    X_cv[i]=scaler.transform(X_cv[i].values.reshape(-1, 1))\n",
    "    X_test[i]=scaler.transform(X_test[i].values.reshape(-1, 1))\n",
    "    pickle.dump(scaler, open(i+'scalar.sav', 'wb'))\n",
    "X_train.head(1)"
   ]
  },
  {
   "cell_type": "markdown",
   "metadata": {
    "id": "pK3rFV4OSlc3"
   },
   "source": [
    "# LGBMClassifier"
   ]
  },
  {
   "cell_type": "code",
   "execution_count": null,
   "metadata": {
    "colab": {
     "base_uri": "https://localhost:8080/"
    },
    "id": "zTY2UhgKF0_C",
    "outputId": "3e2a0746-8b59-4def-d0bc-cb37fbdf1ab2"
   },
   "outputs": [
    {
     "name": "stdout",
     "output_type": "stream",
     "text": [
      "Fitting 5 folds for each of 10 candidates, totalling 50 fits\n"
     ]
    },
    {
     "name": "stderr",
     "output_type": "stream",
     "text": [
      "[Parallel(n_jobs=1)]: Using backend SequentialBackend with 1 concurrent workers.\n"
     ]
    },
    {
     "name": "stdout",
     "output_type": "stream",
     "text": [
      "[CV] subsample=0.7, num_leaves=31, max_depth=450, learning_rate=0.001 \n",
      "[CV]  subsample=0.7, num_leaves=31, max_depth=450, learning_rate=0.001, score=0.585, total= 2.4min\n",
      "[CV] subsample=0.7, num_leaves=31, max_depth=450, learning_rate=0.001 \n"
     ]
    },
    {
     "name": "stderr",
     "output_type": "stream",
     "text": [
      "[Parallel(n_jobs=1)]: Done   1 out of   1 | elapsed:  2.4min remaining:    0.0s\n"
     ]
    },
    {
     "name": "stdout",
     "output_type": "stream",
     "text": [
      "[CV]  subsample=0.7, num_leaves=31, max_depth=450, learning_rate=0.001, score=0.585, total= 2.4min\n",
      "[CV] subsample=0.7, num_leaves=31, max_depth=450, learning_rate=0.001 \n"
     ]
    },
    {
     "name": "stderr",
     "output_type": "stream",
     "text": [
      "[Parallel(n_jobs=1)]: Done   2 out of   2 | elapsed:  4.8min remaining:    0.0s\n"
     ]
    },
    {
     "name": "stdout",
     "output_type": "stream",
     "text": [
      "[CV]  subsample=0.7, num_leaves=31, max_depth=450, learning_rate=0.001, score=0.585, total= 2.4min\n",
      "[CV] subsample=0.7, num_leaves=31, max_depth=450, learning_rate=0.001 \n"
     ]
    },
    {
     "name": "stderr",
     "output_type": "stream",
     "text": [
      "[Parallel(n_jobs=1)]: Done   3 out of   3 | elapsed:  7.2min remaining:    0.0s\n"
     ]
    },
    {
     "name": "stdout",
     "output_type": "stream",
     "text": [
      "[CV]  subsample=0.7, num_leaves=31, max_depth=450, learning_rate=0.001, score=0.585, total= 2.4min\n",
      "[CV] subsample=0.7, num_leaves=31, max_depth=450, learning_rate=0.001 \n"
     ]
    },
    {
     "name": "stderr",
     "output_type": "stream",
     "text": [
      "[Parallel(n_jobs=1)]: Done   4 out of   4 | elapsed:  9.6min remaining:    0.0s\n"
     ]
    },
    {
     "name": "stdout",
     "output_type": "stream",
     "text": [
      "[CV]  subsample=0.7, num_leaves=31, max_depth=450, learning_rate=0.001, score=0.585, total= 2.4min\n",
      "[CV] subsample=0.3, num_leaves=40, max_depth=350, learning_rate=0.05 .\n"
     ]
    },
    {
     "name": "stderr",
     "output_type": "stream",
     "text": [
      "[Parallel(n_jobs=1)]: Done   5 out of   5 | elapsed: 12.0min remaining:    0.0s\n"
     ]
    },
    {
     "name": "stdout",
     "output_type": "stream",
     "text": [
      "[CV]  subsample=0.3, num_leaves=40, max_depth=350, learning_rate=0.05, score=0.907, total= 2.7min\n",
      "[CV] subsample=0.3, num_leaves=40, max_depth=350, learning_rate=0.05 .\n"
     ]
    },
    {
     "name": "stderr",
     "output_type": "stream",
     "text": [
      "[Parallel(n_jobs=1)]: Done   6 out of   6 | elapsed: 14.7min remaining:    0.0s\n"
     ]
    },
    {
     "name": "stdout",
     "output_type": "stream",
     "text": [
      "[CV]  subsample=0.3, num_leaves=40, max_depth=350, learning_rate=0.05, score=0.907, total= 2.7min\n",
      "[CV] subsample=0.3, num_leaves=40, max_depth=350, learning_rate=0.05 .\n"
     ]
    },
    {
     "name": "stderr",
     "output_type": "stream",
     "text": [
      "[Parallel(n_jobs=1)]: Done   7 out of   7 | elapsed: 17.5min remaining:    0.0s\n"
     ]
    },
    {
     "name": "stdout",
     "output_type": "stream",
     "text": [
      "[CV]  subsample=0.3, num_leaves=40, max_depth=350, learning_rate=0.05, score=0.906, total= 2.7min\n",
      "[CV] subsample=0.3, num_leaves=40, max_depth=350, learning_rate=0.05 .\n"
     ]
    },
    {
     "name": "stderr",
     "output_type": "stream",
     "text": [
      "[Parallel(n_jobs=1)]: Done   8 out of   8 | elapsed: 20.2min remaining:    0.0s\n"
     ]
    },
    {
     "name": "stdout",
     "output_type": "stream",
     "text": [
      "[CV]  subsample=0.3, num_leaves=40, max_depth=350, learning_rate=0.05, score=0.907, total= 2.7min\n",
      "[CV] subsample=0.3, num_leaves=40, max_depth=350, learning_rate=0.05 .\n"
     ]
    },
    {
     "name": "stderr",
     "output_type": "stream",
     "text": [
      "[Parallel(n_jobs=1)]: Done   9 out of   9 | elapsed: 22.9min remaining:    0.0s\n"
     ]
    },
    {
     "name": "stdout",
     "output_type": "stream",
     "text": [
      "[CV]  subsample=0.3, num_leaves=40, max_depth=350, learning_rate=0.05, score=0.907, total= 2.7min\n",
      "[CV] subsample=0.7, num_leaves=31, max_depth=200, learning_rate=0.001 \n",
      "[CV]  subsample=0.7, num_leaves=31, max_depth=200, learning_rate=0.001, score=0.585, total= 2.4min\n",
      "[CV] subsample=0.7, num_leaves=31, max_depth=200, learning_rate=0.001 \n",
      "[CV]  subsample=0.7, num_leaves=31, max_depth=200, learning_rate=0.001, score=0.585, total= 2.4min\n",
      "[CV] subsample=0.7, num_leaves=31, max_depth=200, learning_rate=0.001 \n",
      "[CV]  subsample=0.7, num_leaves=31, max_depth=200, learning_rate=0.001, score=0.585, total= 2.4min\n",
      "[CV] subsample=0.7, num_leaves=31, max_depth=200, learning_rate=0.001 \n",
      "[CV]  subsample=0.7, num_leaves=31, max_depth=200, learning_rate=0.001, score=0.585, total= 2.4min\n",
      "[CV] subsample=0.7, num_leaves=31, max_depth=200, learning_rate=0.001 \n",
      "[CV]  subsample=0.7, num_leaves=31, max_depth=200, learning_rate=0.001, score=0.585, total= 2.4min\n",
      "[CV] subsample=0.5, num_leaves=31, max_depth=450, learning_rate=0.1 ..\n",
      "[CV]  subsample=0.5, num_leaves=31, max_depth=450, learning_rate=0.1, score=0.914, total= 2.3min\n",
      "[CV] subsample=0.5, num_leaves=31, max_depth=450, learning_rate=0.1 ..\n",
      "[CV]  subsample=0.5, num_leaves=31, max_depth=450, learning_rate=0.1, score=0.915, total= 2.3min\n",
      "[CV] subsample=0.5, num_leaves=31, max_depth=450, learning_rate=0.1 ..\n",
      "[CV]  subsample=0.5, num_leaves=31, max_depth=450, learning_rate=0.1, score=0.914, total= 2.3min\n",
      "[CV] subsample=0.5, num_leaves=31, max_depth=450, learning_rate=0.1 ..\n",
      "[CV]  subsample=0.5, num_leaves=31, max_depth=450, learning_rate=0.1, score=0.914, total= 2.3min\n",
      "[CV] subsample=0.5, num_leaves=31, max_depth=450, learning_rate=0.1 ..\n",
      "[CV]  subsample=0.5, num_leaves=31, max_depth=450, learning_rate=0.1, score=0.915, total= 2.3min\n",
      "[CV] subsample=0.5, num_leaves=40, max_depth=350, learning_rate=0.1 ..\n",
      "[CV]  subsample=0.5, num_leaves=40, max_depth=350, learning_rate=0.1, score=0.919, total= 2.4min\n",
      "[CV] subsample=0.5, num_leaves=40, max_depth=350, learning_rate=0.1 ..\n",
      "[CV]  subsample=0.5, num_leaves=40, max_depth=350, learning_rate=0.1, score=0.920, total= 2.4min\n",
      "[CV] subsample=0.5, num_leaves=40, max_depth=350, learning_rate=0.1 ..\n",
      "[CV]  subsample=0.5, num_leaves=40, max_depth=350, learning_rate=0.1, score=0.919, total= 2.4min\n",
      "[CV] subsample=0.5, num_leaves=40, max_depth=350, learning_rate=0.1 ..\n",
      "[CV]  subsample=0.5, num_leaves=40, max_depth=350, learning_rate=0.1, score=0.919, total= 2.4min\n",
      "[CV] subsample=0.5, num_leaves=40, max_depth=350, learning_rate=0.1 ..\n",
      "[CV]  subsample=0.5, num_leaves=40, max_depth=350, learning_rate=0.1, score=0.920, total= 2.5min\n",
      "[CV] subsample=0.3, num_leaves=31, max_depth=200, learning_rate=0.005 \n",
      "[CV]  subsample=0.3, num_leaves=31, max_depth=200, learning_rate=0.005, score=0.845, total= 2.5min\n",
      "[CV] subsample=0.3, num_leaves=31, max_depth=200, learning_rate=0.005 \n",
      "[CV]  subsample=0.3, num_leaves=31, max_depth=200, learning_rate=0.005, score=0.847, total= 2.5min\n",
      "[CV] subsample=0.3, num_leaves=31, max_depth=200, learning_rate=0.005 \n",
      "[CV]  subsample=0.3, num_leaves=31, max_depth=200, learning_rate=0.005, score=0.844, total= 2.5min\n",
      "[CV] subsample=0.3, num_leaves=31, max_depth=200, learning_rate=0.005 \n",
      "[CV]  subsample=0.3, num_leaves=31, max_depth=200, learning_rate=0.005, score=0.846, total= 2.5min\n",
      "[CV] subsample=0.3, num_leaves=31, max_depth=200, learning_rate=0.005 \n",
      "[CV]  subsample=0.3, num_leaves=31, max_depth=200, learning_rate=0.005, score=0.845, total= 2.5min\n",
      "[CV] subsample=0.5, num_leaves=20, max_depth=500, learning_rate=0.01 .\n",
      "[CV]  subsample=0.5, num_leaves=20, max_depth=500, learning_rate=0.01, score=0.836, total= 2.3min\n",
      "[CV] subsample=0.5, num_leaves=20, max_depth=500, learning_rate=0.01 .\n",
      "[CV]  subsample=0.5, num_leaves=20, max_depth=500, learning_rate=0.01, score=0.837, total= 2.2min\n",
      "[CV] subsample=0.5, num_leaves=20, max_depth=500, learning_rate=0.01 .\n",
      "[CV]  subsample=0.5, num_leaves=20, max_depth=500, learning_rate=0.01, score=0.834, total= 2.2min\n",
      "[CV] subsample=0.5, num_leaves=20, max_depth=500, learning_rate=0.01 .\n",
      "[CV]  subsample=0.5, num_leaves=20, max_depth=500, learning_rate=0.01, score=0.834, total= 2.2min\n",
      "[CV] subsample=0.5, num_leaves=20, max_depth=500, learning_rate=0.01 .\n",
      "[CV]  subsample=0.5, num_leaves=20, max_depth=500, learning_rate=0.01, score=0.835, total= 2.2min\n",
      "[CV] subsample=0.3, num_leaves=31, max_depth=300, learning_rate=0.005 \n",
      "[CV]  subsample=0.3, num_leaves=31, max_depth=300, learning_rate=0.005, score=0.845, total= 2.5min\n",
      "[CV] subsample=0.3, num_leaves=31, max_depth=300, learning_rate=0.005 \n",
      "[CV]  subsample=0.3, num_leaves=31, max_depth=300, learning_rate=0.005, score=0.847, total= 2.5min\n",
      "[CV] subsample=0.3, num_leaves=31, max_depth=300, learning_rate=0.005 \n",
      "[CV]  subsample=0.3, num_leaves=31, max_depth=300, learning_rate=0.005, score=0.844, total= 2.5min\n",
      "[CV] subsample=0.3, num_leaves=31, max_depth=300, learning_rate=0.005 \n",
      "[CV]  subsample=0.3, num_leaves=31, max_depth=300, learning_rate=0.005, score=0.846, total= 2.5min\n",
      "[CV] subsample=0.3, num_leaves=31, max_depth=300, learning_rate=0.005 \n",
      "[CV]  subsample=0.3, num_leaves=31, max_depth=300, learning_rate=0.005, score=0.845, total= 2.5min\n",
      "[CV] subsample=0.3, num_leaves=20, max_depth=350, learning_rate=0.005 \n",
      "[CV]  subsample=0.3, num_leaves=20, max_depth=350, learning_rate=0.005, score=0.818, total= 2.2min\n",
      "[CV] subsample=0.3, num_leaves=20, max_depth=350, learning_rate=0.005 \n",
      "[CV]  subsample=0.3, num_leaves=20, max_depth=350, learning_rate=0.005, score=0.817, total= 2.2min\n",
      "[CV] subsample=0.3, num_leaves=20, max_depth=350, learning_rate=0.005 \n",
      "[CV]  subsample=0.3, num_leaves=20, max_depth=350, learning_rate=0.005, score=0.814, total= 2.2min\n",
      "[CV] subsample=0.3, num_leaves=20, max_depth=350, learning_rate=0.005 \n",
      "[CV]  subsample=0.3, num_leaves=20, max_depth=350, learning_rate=0.005, score=0.816, total= 2.2min\n",
      "[CV] subsample=0.3, num_leaves=20, max_depth=350, learning_rate=0.005 \n",
      "[CV]  subsample=0.3, num_leaves=20, max_depth=350, learning_rate=0.005, score=0.818, total= 2.2min\n",
      "[CV] subsample=0.5, num_leaves=20, max_depth=300, learning_rate=0.1 ..\n",
      "[CV]  subsample=0.5, num_leaves=20, max_depth=300, learning_rate=0.1, score=0.906, total= 2.0min\n",
      "[CV] subsample=0.5, num_leaves=20, max_depth=300, learning_rate=0.1 ..\n",
      "[CV]  subsample=0.5, num_leaves=20, max_depth=300, learning_rate=0.1, score=0.904, total= 2.0min\n",
      "[CV] subsample=0.5, num_leaves=20, max_depth=300, learning_rate=0.1 ..\n",
      "[CV]  subsample=0.5, num_leaves=20, max_depth=300, learning_rate=0.1, score=0.905, total= 2.0min\n",
      "[CV] subsample=0.5, num_leaves=20, max_depth=300, learning_rate=0.1 ..\n",
      "[CV]  subsample=0.5, num_leaves=20, max_depth=300, learning_rate=0.1, score=0.905, total= 2.0min\n",
      "[CV] subsample=0.5, num_leaves=20, max_depth=300, learning_rate=0.1 ..\n",
      "[CV]  subsample=0.5, num_leaves=20, max_depth=300, learning_rate=0.1, score=0.905, total= 2.0min\n"
     ]
    },
    {
     "name": "stderr",
     "output_type": "stream",
     "text": [
      "[Parallel(n_jobs=1)]: Done  50 out of  50 | elapsed: 118.4min finished\n"
     ]
    },
    {
     "name": "stdout",
     "output_type": "stream",
     "text": [
      "LGBMClassifier(boosting_type='gbdt', class_weight=None, colsample_bytree=1.0,\n",
      "               importance_type='split', learning_rate=0.1, max_depth=350,\n",
      "               min_child_samples=20, min_child_weight=0.001, min_split_gain=0.0,\n",
      "               n_estimators=100, n_jobs=-1, num_leaves=40, objective=None,\n",
      "               random_state=None, reg_alpha=0.0, reg_lambda=0.0, silent=True,\n",
      "               subsample=0.5, subsample_for_bin=200000, subsample_freq=0)\n"
     ]
    }
   ],
   "source": [
    "x_cfl=LGBMClassifier()\n",
    "prams={\n",
    "    'learning_rate':[0.001,0.005,0.01,0.05,0.1],\n",
    "    'max_depth':[200,300,350,400,450,500],\n",
    "    'num_leaves':[20,31,40],\n",
    "    'subsample':[0.1,0.3,0.5,0.7]\n",
    "}\n",
    "random_cfl=RandomizedSearchCV(x_cfl,param_distributions=prams,verbose=10)\n",
    "random_cfl.fit(X_train,y_train)\n",
    "print(random_cfl.best_estimator_)"
   ]
  },
  {
   "cell_type": "code",
   "execution_count": 7,
   "metadata": {
    "colab": {
     "base_uri": "https://localhost:8080/"
    },
    "id": "gmxU7fcqVAdd",
    "outputId": "91a9a324-28e7-4493-9e18-ba495b4498a7"
   },
   "outputs": [
    {
     "name": "stdout",
     "output_type": "stream",
     "text": [
      "Fitting 5 folds for each of 10 candidates, totalling 50 fits\n"
     ]
    },
    {
     "name": "stderr",
     "output_type": "stream",
     "text": [
      "[Parallel(n_jobs=1)]: Using backend SequentialBackend with 1 concurrent workers.\n"
     ]
    },
    {
     "name": "stdout",
     "output_type": "stream",
     "text": [
      "[CV] subsample=0.5, num_leaves=37, max_depth=370, learning_rate=0.5 ..\n",
      "[CV]  subsample=0.5, num_leaves=37, max_depth=370, learning_rate=0.5, score=0.939, total=  51.6s\n",
      "[CV] subsample=0.5, num_leaves=37, max_depth=370, learning_rate=0.5 ..\n"
     ]
    },
    {
     "name": "stderr",
     "output_type": "stream",
     "text": [
      "[Parallel(n_jobs=1)]: Done   1 out of   1 | elapsed:   51.6s remaining:    0.0s\n"
     ]
    },
    {
     "name": "stdout",
     "output_type": "stream",
     "text": [
      "[CV]  subsample=0.5, num_leaves=37, max_depth=370, learning_rate=0.5, score=0.937, total=  50.9s\n",
      "[CV] subsample=0.5, num_leaves=37, max_depth=370, learning_rate=0.5 ..\n"
     ]
    },
    {
     "name": "stderr",
     "output_type": "stream",
     "text": [
      "[Parallel(n_jobs=1)]: Done   2 out of   2 | elapsed:  1.7min remaining:    0.0s\n"
     ]
    },
    {
     "name": "stdout",
     "output_type": "stream",
     "text": [
      "[CV]  subsample=0.5, num_leaves=37, max_depth=370, learning_rate=0.5, score=0.941, total=  53.0s\n",
      "[CV] subsample=0.5, num_leaves=37, max_depth=370, learning_rate=0.5 ..\n"
     ]
    },
    {
     "name": "stderr",
     "output_type": "stream",
     "text": [
      "[Parallel(n_jobs=1)]: Done   3 out of   3 | elapsed:  2.6min remaining:    0.0s\n"
     ]
    },
    {
     "name": "stdout",
     "output_type": "stream",
     "text": [
      "[CV]  subsample=0.5, num_leaves=37, max_depth=370, learning_rate=0.5, score=0.932, total=  51.8s\n",
      "[CV] subsample=0.5, num_leaves=37, max_depth=370, learning_rate=0.5 ..\n"
     ]
    },
    {
     "name": "stderr",
     "output_type": "stream",
     "text": [
      "[Parallel(n_jobs=1)]: Done   4 out of   4 | elapsed:  3.5min remaining:    0.0s\n"
     ]
    },
    {
     "name": "stdout",
     "output_type": "stream",
     "text": [
      "[CV]  subsample=0.5, num_leaves=37, max_depth=370, learning_rate=0.5, score=0.909, total=  49.7s\n",
      "[CV] subsample=0.6, num_leaves=43, max_depth=340, learning_rate=0.5 ..\n"
     ]
    },
    {
     "name": "stderr",
     "output_type": "stream",
     "text": [
      "[Parallel(n_jobs=1)]: Done   5 out of   5 | elapsed:  4.3min remaining:    0.0s\n"
     ]
    },
    {
     "name": "stdout",
     "output_type": "stream",
     "text": [
      "[CV]  subsample=0.6, num_leaves=43, max_depth=340, learning_rate=0.5, score=0.937, total=  51.6s\n",
      "[CV] subsample=0.6, num_leaves=43, max_depth=340, learning_rate=0.5 ..\n"
     ]
    },
    {
     "name": "stderr",
     "output_type": "stream",
     "text": [
      "[Parallel(n_jobs=1)]: Done   6 out of   6 | elapsed:  5.1min remaining:    0.0s\n"
     ]
    },
    {
     "name": "stdout",
     "output_type": "stream",
     "text": [
      "[CV]  subsample=0.6, num_leaves=43, max_depth=340, learning_rate=0.5, score=0.943, total=  52.4s\n",
      "[CV] subsample=0.6, num_leaves=43, max_depth=340, learning_rate=0.5 ..\n"
     ]
    },
    {
     "name": "stderr",
     "output_type": "stream",
     "text": [
      "[Parallel(n_jobs=1)]: Done   7 out of   7 | elapsed:  6.0min remaining:    0.0s\n"
     ]
    },
    {
     "name": "stdout",
     "output_type": "stream",
     "text": [
      "[CV]  subsample=0.6, num_leaves=43, max_depth=340, learning_rate=0.5, score=0.936, total=  53.9s\n",
      "[CV] subsample=0.6, num_leaves=43, max_depth=340, learning_rate=0.5 ..\n"
     ]
    },
    {
     "name": "stderr",
     "output_type": "stream",
     "text": [
      "[Parallel(n_jobs=1)]: Done   8 out of   8 | elapsed:  6.9min remaining:    0.0s\n"
     ]
    },
    {
     "name": "stdout",
     "output_type": "stream",
     "text": [
      "[CV]  subsample=0.6, num_leaves=43, max_depth=340, learning_rate=0.5, score=0.930, total=  51.6s\n",
      "[CV] subsample=0.6, num_leaves=43, max_depth=340, learning_rate=0.5 ..\n"
     ]
    },
    {
     "name": "stderr",
     "output_type": "stream",
     "text": [
      "[Parallel(n_jobs=1)]: Done   9 out of   9 | elapsed:  7.8min remaining:    0.0s\n"
     ]
    },
    {
     "name": "stdout",
     "output_type": "stream",
     "text": [
      "[CV]  subsample=0.6, num_leaves=43, max_depth=340, learning_rate=0.5, score=0.924, total=  51.2s\n",
      "[CV] subsample=0.4, num_leaves=37, max_depth=330, learning_rate=0.5 ..\n",
      "[CV]  subsample=0.4, num_leaves=37, max_depth=330, learning_rate=0.5, score=0.939, total=  51.5s\n",
      "[CV] subsample=0.4, num_leaves=37, max_depth=330, learning_rate=0.5 ..\n",
      "[CV]  subsample=0.4, num_leaves=37, max_depth=330, learning_rate=0.5, score=0.937, total=  50.8s\n",
      "[CV] subsample=0.4, num_leaves=37, max_depth=330, learning_rate=0.5 ..\n",
      "[CV]  subsample=0.4, num_leaves=37, max_depth=330, learning_rate=0.5, score=0.941, total=  52.5s\n",
      "[CV] subsample=0.4, num_leaves=37, max_depth=330, learning_rate=0.5 ..\n",
      "[CV]  subsample=0.4, num_leaves=37, max_depth=330, learning_rate=0.5, score=0.932, total=  51.9s\n",
      "[CV] subsample=0.4, num_leaves=37, max_depth=330, learning_rate=0.5 ..\n",
      "[CV]  subsample=0.4, num_leaves=37, max_depth=330, learning_rate=0.5, score=0.909, total=  49.6s\n",
      "[CV] subsample=0.4, num_leaves=40, max_depth=360, learning_rate=0.5 ..\n",
      "[CV]  subsample=0.4, num_leaves=40, max_depth=360, learning_rate=0.5, score=0.899, total=  51.1s\n",
      "[CV] subsample=0.4, num_leaves=40, max_depth=360, learning_rate=0.5 ..\n",
      "[CV]  subsample=0.4, num_leaves=40, max_depth=360, learning_rate=0.5, score=0.935, total=  49.9s\n",
      "[CV] subsample=0.4, num_leaves=40, max_depth=360, learning_rate=0.5 ..\n",
      "[CV]  subsample=0.4, num_leaves=40, max_depth=360, learning_rate=0.5, score=0.915, total=  50.0s\n",
      "[CV] subsample=0.4, num_leaves=40, max_depth=360, learning_rate=0.5 ..\n",
      "[CV]  subsample=0.4, num_leaves=40, max_depth=360, learning_rate=0.5, score=0.924, total=  50.1s\n",
      "[CV] subsample=0.4, num_leaves=40, max_depth=360, learning_rate=0.5 ..\n",
      "[CV]  subsample=0.4, num_leaves=40, max_depth=360, learning_rate=0.5, score=0.927, total=  51.0s\n",
      "[CV] subsample=0.5, num_leaves=43, max_depth=340, learning_rate=0.3 ..\n",
      "[CV]  subsample=0.5, num_leaves=43, max_depth=340, learning_rate=0.3, score=0.942, total= 1.0min\n",
      "[CV] subsample=0.5, num_leaves=43, max_depth=340, learning_rate=0.3 ..\n",
      "[CV]  subsample=0.5, num_leaves=43, max_depth=340, learning_rate=0.3, score=0.941, total= 1.0min\n",
      "[CV] subsample=0.5, num_leaves=43, max_depth=340, learning_rate=0.3 ..\n",
      "[CV]  subsample=0.5, num_leaves=43, max_depth=340, learning_rate=0.3, score=0.940, total=  59.9s\n",
      "[CV] subsample=0.5, num_leaves=43, max_depth=340, learning_rate=0.3 ..\n",
      "[CV]  subsample=0.5, num_leaves=43, max_depth=340, learning_rate=0.3, score=0.943, total= 1.0min\n",
      "[CV] subsample=0.5, num_leaves=43, max_depth=340, learning_rate=0.3 ..\n",
      "[CV]  subsample=0.5, num_leaves=43, max_depth=340, learning_rate=0.3, score=0.942, total= 1.0min\n",
      "[CV] subsample=0.4, num_leaves=40, max_depth=360, learning_rate=0.3 ..\n",
      "[CV]  subsample=0.4, num_leaves=40, max_depth=360, learning_rate=0.3, score=0.940, total=  59.4s\n",
      "[CV] subsample=0.4, num_leaves=40, max_depth=360, learning_rate=0.3 ..\n",
      "[CV]  subsample=0.4, num_leaves=40, max_depth=360, learning_rate=0.3, score=0.940, total=  59.3s\n",
      "[CV] subsample=0.4, num_leaves=40, max_depth=360, learning_rate=0.3 ..\n",
      "[CV]  subsample=0.4, num_leaves=40, max_depth=360, learning_rate=0.3, score=0.940, total=  59.5s\n",
      "[CV] subsample=0.4, num_leaves=40, max_depth=360, learning_rate=0.3 ..\n",
      "[CV]  subsample=0.4, num_leaves=40, max_depth=360, learning_rate=0.3, score=0.939, total=  58.7s\n",
      "[CV] subsample=0.4, num_leaves=40, max_depth=360, learning_rate=0.3 ..\n",
      "[CV]  subsample=0.4, num_leaves=40, max_depth=360, learning_rate=0.3, score=0.940, total= 1.0min\n",
      "[CV] subsample=0.5, num_leaves=40, max_depth=350, learning_rate=0.08 .\n",
      "[CV]  subsample=0.5, num_leaves=40, max_depth=350, learning_rate=0.08, score=0.915, total= 1.3min\n",
      "[CV] subsample=0.5, num_leaves=40, max_depth=350, learning_rate=0.08 .\n",
      "[CV]  subsample=0.5, num_leaves=40, max_depth=350, learning_rate=0.08, score=0.916, total= 1.3min\n",
      "[CV] subsample=0.5, num_leaves=40, max_depth=350, learning_rate=0.08 .\n",
      "[CV]  subsample=0.5, num_leaves=40, max_depth=350, learning_rate=0.08, score=0.915, total= 1.3min\n",
      "[CV] subsample=0.5, num_leaves=40, max_depth=350, learning_rate=0.08 .\n",
      "[CV]  subsample=0.5, num_leaves=40, max_depth=350, learning_rate=0.08, score=0.916, total= 1.3min\n",
      "[CV] subsample=0.5, num_leaves=40, max_depth=350, learning_rate=0.08 .\n",
      "[CV]  subsample=0.5, num_leaves=40, max_depth=350, learning_rate=0.08, score=0.915, total= 1.3min\n",
      "[CV] subsample=0.5, num_leaves=40, max_depth=370, learning_rate=0.7 ..\n",
      "[CV]  subsample=0.5, num_leaves=40, max_depth=370, learning_rate=0.7, score=0.925, total=  51.1s\n",
      "[CV] subsample=0.5, num_leaves=40, max_depth=370, learning_rate=0.7 ..\n",
      "[CV]  subsample=0.5, num_leaves=40, max_depth=370, learning_rate=0.7, score=0.930, total=  49.8s\n",
      "[CV] subsample=0.5, num_leaves=40, max_depth=370, learning_rate=0.7 ..\n",
      "[CV]  subsample=0.5, num_leaves=40, max_depth=370, learning_rate=0.7, score=0.926, total=  49.3s\n",
      "[CV] subsample=0.5, num_leaves=40, max_depth=370, learning_rate=0.7 ..\n",
      "[CV]  subsample=0.5, num_leaves=40, max_depth=370, learning_rate=0.7, score=0.934, total=  48.2s\n",
      "[CV] subsample=0.5, num_leaves=40, max_depth=370, learning_rate=0.7 ..\n",
      "[CV]  subsample=0.5, num_leaves=40, max_depth=370, learning_rate=0.7, score=0.914, total=  48.6s\n",
      "[CV] subsample=0.6, num_leaves=40, max_depth=350, learning_rate=0.5 ..\n",
      "[CV]  subsample=0.6, num_leaves=40, max_depth=350, learning_rate=0.5, score=0.899, total=  51.2s\n",
      "[CV] subsample=0.6, num_leaves=40, max_depth=350, learning_rate=0.5 ..\n",
      "[CV]  subsample=0.6, num_leaves=40, max_depth=350, learning_rate=0.5, score=0.934, total=  50.5s\n",
      "[CV] subsample=0.6, num_leaves=40, max_depth=350, learning_rate=0.5 ..\n",
      "[CV]  subsample=0.6, num_leaves=40, max_depth=350, learning_rate=0.5, score=0.915, total=  51.1s\n",
      "[CV] subsample=0.6, num_leaves=40, max_depth=350, learning_rate=0.5 ..\n",
      "[CV]  subsample=0.6, num_leaves=40, max_depth=350, learning_rate=0.5, score=0.937, total=  50.9s\n",
      "[CV] subsample=0.6, num_leaves=40, max_depth=350, learning_rate=0.5 ..\n",
      "[CV]  subsample=0.6, num_leaves=40, max_depth=350, learning_rate=0.5, score=0.928, total=  51.8s\n",
      "[CV] subsample=0.6, num_leaves=40, max_depth=330, learning_rate=0.3 ..\n",
      "[CV]  subsample=0.6, num_leaves=40, max_depth=330, learning_rate=0.3, score=0.940, total= 1.0min\n",
      "[CV] subsample=0.6, num_leaves=40, max_depth=330, learning_rate=0.3 ..\n",
      "[CV]  subsample=0.6, num_leaves=40, max_depth=330, learning_rate=0.3, score=0.940, total= 1.1min\n",
      "[CV] subsample=0.6, num_leaves=40, max_depth=330, learning_rate=0.3 ..\n",
      "[CV]  subsample=0.6, num_leaves=40, max_depth=330, learning_rate=0.3, score=0.940, total= 1.0min\n",
      "[CV] subsample=0.6, num_leaves=40, max_depth=330, learning_rate=0.3 ..\n",
      "[CV]  subsample=0.6, num_leaves=40, max_depth=330, learning_rate=0.3, score=0.939, total= 1.0min\n",
      "[CV] subsample=0.6, num_leaves=40, max_depth=330, learning_rate=0.3 ..\n",
      "[CV]  subsample=0.6, num_leaves=40, max_depth=330, learning_rate=0.3, score=0.940, total= 1.0min\n"
     ]
    },
    {
     "name": "stderr",
     "output_type": "stream",
     "text": [
      "[Parallel(n_jobs=1)]: Done  50 out of  50 | elapsed: 47.1min finished\n"
     ]
    },
    {
     "name": "stdout",
     "output_type": "stream",
     "text": [
      "LGBMClassifier(boosting_type='gbdt', class_weight=None, colsample_bytree=1.0,\n",
      "               importance_type='split', learning_rate=0.3, max_depth=340,\n",
      "               min_child_samples=20, min_child_weight=0.001, min_split_gain=0.0,\n",
      "               n_estimators=100, n_jobs=-1, num_leaves=43, objective=None,\n",
      "               random_state=None, reg_alpha=0.0, reg_lambda=0.0, silent=True,\n",
      "               subsample=0.5, subsample_for_bin=200000, subsample_freq=0)\n"
     ]
    }
   ],
   "source": [
    "x_cfl=LGBMClassifier()\n",
    "prams={\n",
    "    'learning_rate':[0.08,0.1,0.3,0.5,0.7],\n",
    "    'max_depth':[330,340,350,360,370],\n",
    "    'num_leaves':[37,40,43],\n",
    "    'subsample':[0.4,0.5,0.6]\n",
    "}\n",
    "random_cfl=RandomizedSearchCV(x_cfl,param_distributions=prams,verbose=10)\n",
    "random_cfl.fit(X_train,y_train)\n",
    "print(random_cfl.best_estimator_)"
   ]
  },
  {
   "cell_type": "code",
   "execution_count": 8,
   "metadata": {
    "id": "1QpvCq16F1Ce"
   },
   "outputs": [],
   "source": [
    "lgbt_model=random_cfl.best_estimator_\n",
    "lgbt_model.fit(X_train,y_train)\n",
    "pickle.dump(lgbt_model, open('lgbt_model.sav', 'wb'))"
   ]
  },
  {
   "cell_type": "code",
   "execution_count": 13,
   "metadata": {
    "colab": {
     "base_uri": "https://localhost:8080/"
    },
    "id": "725kftKCoJLg",
    "outputId": "634c30ce-dc0d-43b8-9e20-b85875d703de"
   },
   "outputs": [
    {
     "name": "stdout",
     "output_type": "stream",
     "text": [
      "Training_loss : 0.1662291449525615\n",
      "F1 train micro score : 0.9423376929324637\n",
      "F1 train macro score : 0.799406518402272\n",
      "Testing_loss : 0.16903759494353826\n",
      "F1 test micro score : 0.9415830632383783\n",
      "F1 train macro score : 0.797075952838584\n"
     ]
    }
   ],
   "source": [
    "y_train_prob_pred=lgbt_model.predict_proba(X_train)\n",
    "y_cv_prob_pred=lgbt_model.predict_proba(X_cv)\n",
    "y_train_pred=lgbt_model.predict(X_train)\n",
    "y_cv_pred=lgbt_model.predict(X_cv)\n",
    "\n",
    "loss_train=log_loss(y_train,y_train_prob_pred)\n",
    "loss_test=log_loss(y_cv,y_cv_prob_pred)\n",
    "F1_train_micro=f1_score(y_train,y_train_pred,average='micro')\n",
    "F1_test_micro=f1_score(y_cv,y_cv_pred,average='micro')\n",
    "F1_train_macro=f1_score(y_train,y_train_pred,average='macro')\n",
    "F1_test_macro=f1_score(y_cv,y_cv_pred,average='macro')\n",
    "print('Training_loss :',loss_train)\n",
    "print('F1 train micro score :',F1_train_micro)\n",
    "print('F1 train macro score :',F1_train_macro)\n",
    "print('Testing_loss :',loss_test)\n",
    "print('F1 test micro score :',F1_test_micro)\n",
    "print('F1 train macro score :',F1_test_macro)"
   ]
  },
  {
   "cell_type": "code",
   "execution_count": 16,
   "metadata": {
    "colab": {
     "base_uri": "https://localhost:8080/",
     "height": 590
    },
    "id": "It_SlMPaoK3d",
    "outputId": "b8e08b15-c37f-48db-cf98-0eff968039f8"
   },
   "outputs": [
    {
     "name": "stdout",
     "output_type": "stream",
     "text": [
      "Train data Confusion matrix\n"
     ]
    },
    {
     "data": {
      "image/png": "[encoded data removed]",
      "text/plain": [
       "<Figure size 432x288 with 2 Axes>"
      ]
     },
     "metadata": {
      "needs_background": "light",
      "tags": []
     },
     "output_type": "display_data"
    },
    {
     "name": "stdout",
     "output_type": "stream",
     "text": [
      "Test data Confusion matrix\n"
     ]
    },
    {
     "data": {
      "image/png": "[encoded data removed]",
      "text/plain": [
       "<Figure size 432x288 with 2 Axes>"
      ]
     },
     "metadata": {
      "needs_background": "light",
      "tags": []
     },
     "output_type": "display_data"
    }
   ],
   "source": [
    "def plot_confusion_matrix(y_true,y_predict):\n",
    "    X=confusion_matrix(y_true,y_predict)\n",
    "    labels=[1,2,3,4]    \n",
    "    sns.heatmap(X,annot=True,cmap=sns.light_palette(\"red\"))\n",
    "    plt.xlabel('Predicted Class')\n",
    "    plt.ylabel('Original Class')\n",
    "    plt.show()\n",
    "print('Train data Confusion matrix')\n",
    "plot_confusion_matrix(y_train,y_train_pred)\n",
    "print('Test data Confusion matrix')\n",
    "plot_confusion_matrix(y_cv,y_cv_pred)"
   ]
  },
  {
   "cell_type": "code",
   "execution_count": 15,
   "metadata": {
    "id": "l9njrkpOtZy9"
   },
   "outputs": [],
   "source": [
    "X_test_predict=lgbt_model.predict_proba(X_test)\n",
    "prediction=pd.DataFrame(X_test_predict,columns=['A','B','C','D']) \n",
    "prediction['id']=test_data['id']\n",
    "prediction=prediction[[\"id\",\"A\",\"B\",\"C\",\"D\"]]\n",
    "prediction.to_csv('lgbt_submission.csv',index=False)"
   ]
  },
  {
   "cell_type": "markdown",
   "metadata": {
    "id": "KrfSRCRRSlc8"
   },
   "source": [
    "# Logistic Regression"
   ]
  },
  {
   "cell_type": "code",
   "execution_count": 17,
   "metadata": {
    "colab": {
     "base_uri": "https://localhost:8080/"
    },
    "id": "bUrqiZdnrk5b",
    "outputId": "c49c363c-3d3e-45a0-8df3-98153a10a598"
   },
   "outputs": [
    {
     "name": "stdout",
     "output_type": "stream",
     "text": [
      "Fitting 5 folds for each of 10 candidates, totalling 50 fits\n"
     ]
    },
    {
     "name": "stderr",
     "output_type": "stream",
     "text": [
      "[Parallel(n_jobs=1)]: Using backend SequentialBackend with 1 concurrent workers.\n"
     ]
    },
    {
     "name": "stdout",
     "output_type": "stream",
     "text": [
      "[CV] penalty=l1, alpha=0.1 ...........................................\n",
      "[CV] ............... penalty=l1, alpha=0.1, score=0.585, total=  27.3s\n",
      "[CV] penalty=l1, alpha=0.1 ...........................................\n"
     ]
    },
    {
     "name": "stderr",
     "output_type": "stream",
     "text": [
      "[Parallel(n_jobs=1)]: Done   1 out of   1 | elapsed:   27.3s remaining:    0.0s\n"
     ]
    },
    {
     "name": "stdout",
     "output_type": "stream",
     "text": [
      "[CV] ............... penalty=l1, alpha=0.1, score=0.585, total=  27.3s\n",
      "[CV] penalty=l1, alpha=0.1 ...........................................\n"
     ]
    },
    {
     "name": "stderr",
     "output_type": "stream",
     "text": [
      "[Parallel(n_jobs=1)]: Done   2 out of   2 | elapsed:   54.5s remaining:    0.0s\n"
     ]
    },
    {
     "name": "stdout",
     "output_type": "stream",
     "text": [
      "[CV] ............... penalty=l1, alpha=0.1, score=0.585, total=  27.3s\n",
      "[CV] penalty=l1, alpha=0.1 ...........................................\n"
     ]
    },
    {
     "name": "stderr",
     "output_type": "stream",
     "text": [
      "[Parallel(n_jobs=1)]: Done   3 out of   3 | elapsed:  1.4min remaining:    0.0s\n"
     ]
    },
    {
     "name": "stdout",
     "output_type": "stream",
     "text": [
      "[CV] ............... penalty=l1, alpha=0.1, score=0.585, total=  26.1s\n",
      "[CV] penalty=l1, alpha=0.1 ...........................................\n"
     ]
    },
    {
     "name": "stderr",
     "output_type": "stream",
     "text": [
      "[Parallel(n_jobs=1)]: Done   4 out of   4 | elapsed:  1.8min remaining:    0.0s\n"
     ]
    },
    {
     "name": "stdout",
     "output_type": "stream",
     "text": [
      "[CV] ............... penalty=l1, alpha=0.1, score=0.585, total=  27.2s\n",
      "[CV] penalty=l2, alpha=0.001 .........................................\n"
     ]
    },
    {
     "name": "stderr",
     "output_type": "stream",
     "text": [
      "[Parallel(n_jobs=1)]: Done   5 out of   5 | elapsed:  2.3min remaining:    0.0s\n"
     ]
    },
    {
     "name": "stdout",
     "output_type": "stream",
     "text": [
      "[CV] ............. penalty=l2, alpha=0.001, score=0.607, total=  23.8s\n",
      "[CV] penalty=l2, alpha=0.001 .........................................\n"
     ]
    },
    {
     "name": "stderr",
     "output_type": "stream",
     "text": [
      "[Parallel(n_jobs=1)]: Done   6 out of   6 | elapsed:  2.6min remaining:    0.0s\n"
     ]
    },
    {
     "name": "stdout",
     "output_type": "stream",
     "text": [
      "[CV] ............. penalty=l2, alpha=0.001, score=0.604, total=  23.4s\n",
      "[CV] penalty=l2, alpha=0.001 .........................................\n"
     ]
    },
    {
     "name": "stderr",
     "output_type": "stream",
     "text": [
      "[Parallel(n_jobs=1)]: Done   7 out of   7 | elapsed:  3.0min remaining:    0.0s\n"
     ]
    },
    {
     "name": "stdout",
     "output_type": "stream",
     "text": [
      "[CV] ............. penalty=l2, alpha=0.001, score=0.607, total=  23.5s\n",
      "[CV] penalty=l2, alpha=0.001 .........................................\n"
     ]
    },
    {
     "name": "stderr",
     "output_type": "stream",
     "text": [
      "[Parallel(n_jobs=1)]: Done   8 out of   8 | elapsed:  3.4min remaining:    0.0s\n"
     ]
    },
    {
     "name": "stdout",
     "output_type": "stream",
     "text": [
      "[CV] ............. penalty=l2, alpha=0.001, score=0.607, total=  23.7s\n",
      "[CV] penalty=l2, alpha=0.001 .........................................\n"
     ]
    },
    {
     "name": "stderr",
     "output_type": "stream",
     "text": [
      "[Parallel(n_jobs=1)]: Done   9 out of   9 | elapsed:  3.8min remaining:    0.0s\n"
     ]
    },
    {
     "name": "stdout",
     "output_type": "stream",
     "text": [
      "[CV] ............. penalty=l2, alpha=0.001, score=0.610, total=  23.5s\n",
      "[CV] penalty=l2, alpha=0.01 ..........................................\n",
      "[CV] .............. penalty=l2, alpha=0.01, score=0.607, total=  22.0s\n",
      "[CV] penalty=l2, alpha=0.01 ..........................................\n",
      "[CV] .............. penalty=l2, alpha=0.01, score=0.607, total=  21.9s\n",
      "[CV] penalty=l2, alpha=0.01 ..........................................\n",
      "[CV] .............. penalty=l2, alpha=0.01, score=0.607, total=  22.0s\n",
      "[CV] penalty=l2, alpha=0.01 ..........................................\n",
      "[CV] .............. penalty=l2, alpha=0.01, score=0.606, total=  22.2s\n",
      "[CV] penalty=l2, alpha=0.01 ..........................................\n",
      "[CV] .............. penalty=l2, alpha=0.01, score=0.607, total=  22.1s\n",
      "[CV] penalty=l2, alpha=0.0001 ........................................\n",
      "[CV] ............ penalty=l2, alpha=0.0001, score=0.607, total=  27.2s\n",
      "[CV] penalty=l2, alpha=0.0001 ........................................\n",
      "[CV] ............ penalty=l2, alpha=0.0001, score=0.605, total=  27.1s\n",
      "[CV] penalty=l2, alpha=0.0001 ........................................\n",
      "[CV] ............ penalty=l2, alpha=0.0001, score=0.597, total=  27.1s\n",
      "[CV] penalty=l2, alpha=0.0001 ........................................\n",
      "[CV] ............ penalty=l2, alpha=0.0001, score=0.606, total=  27.3s\n",
      "[CV] penalty=l2, alpha=0.0001 ........................................\n",
      "[CV] ............ penalty=l2, alpha=0.0001, score=0.611, total=  27.1s\n",
      "[CV] penalty=l1, alpha=0.005 .........................................\n",
      "[CV] ............. penalty=l1, alpha=0.005, score=0.591, total=  27.5s\n",
      "[CV] penalty=l1, alpha=0.005 .........................................\n",
      "[CV] ............. penalty=l1, alpha=0.005, score=0.592, total=  27.4s\n",
      "[CV] penalty=l1, alpha=0.005 .........................................\n",
      "[CV] ............. penalty=l1, alpha=0.005, score=0.594, total=  27.4s\n",
      "[CV] penalty=l1, alpha=0.005 .........................................\n",
      "[CV] ............. penalty=l1, alpha=0.005, score=0.596, total=  27.7s\n",
      "[CV] penalty=l1, alpha=0.005 .........................................\n",
      "[CV] ............. penalty=l1, alpha=0.005, score=0.596, total=  27.3s\n",
      "[CV] penalty=l1, alpha=1e-05 .........................................\n",
      "[CV] ............. penalty=l1, alpha=1e-05, score=0.606, total=  39.3s\n",
      "[CV] penalty=l1, alpha=1e-05 .........................................\n",
      "[CV] ............. penalty=l1, alpha=1e-05, score=0.605, total=  39.3s\n",
      "[CV] penalty=l1, alpha=1e-05 .........................................\n",
      "[CV] ............. penalty=l1, alpha=1e-05, score=0.610, total=  38.6s\n",
      "[CV] penalty=l1, alpha=1e-05 .........................................\n",
      "[CV] ............. penalty=l1, alpha=1e-05, score=0.596, total=  39.2s\n",
      "[CV] penalty=l1, alpha=1e-05 .........................................\n",
      "[CV] ............. penalty=l1, alpha=1e-05, score=0.611, total=  37.4s\n",
      "[CV] penalty=l1, alpha=0.0001 ........................................\n",
      "[CV] ............ penalty=l1, alpha=0.0001, score=0.605, total=  29.8s\n",
      "[CV] penalty=l1, alpha=0.0001 ........................................\n",
      "[CV] ............ penalty=l1, alpha=0.0001, score=0.597, total=  29.6s\n",
      "[CV] penalty=l1, alpha=0.0001 ........................................\n",
      "[CV] ............ penalty=l1, alpha=0.0001, score=0.609, total=  29.7s\n",
      "[CV] penalty=l1, alpha=0.0001 ........................................\n",
      "[CV] ............ penalty=l1, alpha=0.0001, score=0.606, total=  29.1s\n",
      "[CV] penalty=l1, alpha=0.0001 ........................................\n",
      "[CV] ............ penalty=l1, alpha=0.0001, score=0.607, total=  28.8s\n",
      "[CV] penalty=l2, alpha=0.1 ...........................................\n",
      "[CV] ............... penalty=l2, alpha=0.1, score=0.585, total=  19.7s\n",
      "[CV] penalty=l2, alpha=0.1 ...........................................\n",
      "[CV] ............... penalty=l2, alpha=0.1, score=0.585, total=  19.9s\n",
      "[CV] penalty=l2, alpha=0.1 ...........................................\n",
      "[CV] ............... penalty=l2, alpha=0.1, score=0.585, total=  19.8s\n",
      "[CV] penalty=l2, alpha=0.1 ...........................................\n",
      "[CV] ............... penalty=l2, alpha=0.1, score=0.585, total=  20.1s\n",
      "[CV] penalty=l2, alpha=0.1 ...........................................\n",
      "[CV] ............... penalty=l2, alpha=0.1, score=0.585, total=  21.5s\n",
      "[CV] penalty=l1, alpha=0.01 ..........................................\n",
      "[CV] .............. penalty=l1, alpha=0.01, score=0.585, total=  24.9s\n",
      "[CV] penalty=l1, alpha=0.01 ..........................................\n",
      "[CV] .............. penalty=l1, alpha=0.01, score=0.585, total=  26.9s\n",
      "[CV] penalty=l1, alpha=0.01 ..........................................\n",
      "[CV] .............. penalty=l1, alpha=0.01, score=0.585, total=  28.0s\n",
      "[CV] penalty=l1, alpha=0.01 ..........................................\n",
      "[CV] .............. penalty=l1, alpha=0.01, score=0.585, total=  26.9s\n",
      "[CV] penalty=l1, alpha=0.01 ..........................................\n",
      "[CV] .............. penalty=l1, alpha=0.01, score=0.585, total=  27.0s\n",
      "[CV] penalty=l2, alpha=1e-05 .........................................\n",
      "[CV] ............. penalty=l2, alpha=1e-05, score=0.585, total=  43.0s\n",
      "[CV] penalty=l2, alpha=1e-05 .........................................\n",
      "[CV] ............. penalty=l2, alpha=1e-05, score=0.602, total=  42.5s\n",
      "[CV] penalty=l2, alpha=1e-05 .........................................\n",
      "[CV] ............. penalty=l2, alpha=1e-05, score=0.607, total=  42.8s\n",
      "[CV] penalty=l2, alpha=1e-05 .........................................\n",
      "[CV] ............. penalty=l2, alpha=1e-05, score=0.604, total=  43.8s\n",
      "[CV] penalty=l2, alpha=1e-05 .........................................\n",
      "[CV] ............. penalty=l2, alpha=1e-05, score=0.615, total=  42.6s\n"
     ]
    },
    {
     "name": "stderr",
     "output_type": "stream",
     "text": [
      "[Parallel(n_jobs=1)]: Done  50 out of  50 | elapsed: 23.8min finished\n"
     ]
    },
    {
     "name": "stdout",
     "output_type": "stream",
     "text": [
      "SGDClassifier(alpha=0.001, average=False, class_weight=None,\n",
      "              early_stopping=False, epsilon=0.1, eta0=0.0, fit_intercept=True,\n",
      "              l1_ratio=0.15, learning_rate='optimal', loss='log', max_iter=1000,\n",
      "              n_iter_no_change=5, n_jobs=None, penalty='l2', power_t=0.5,\n",
      "              random_state=None, shuffle=True, tol=0.001,\n",
      "              validation_fraction=0.1, verbose=0, warm_start=False)\n"
     ]
    }
   ],
   "source": [
    "x_cfl=SGDClassifier(loss='log')\n",
    "prams={\n",
    "    'alpha':[1e-05,0.0001,0.001,0.005,0.01,0.1],  \n",
    "    'penalty':['l1','l2'],  \n",
    "}\n",
    "random_cfl=RandomizedSearchCV(x_cfl,param_distributions=prams,verbose=10)\n",
    "random_cfl.fit(X_train,y_train)\n",
    "print(random_cfl.best_estimator_)"
   ]
  },
  {
   "cell_type": "code",
   "execution_count": 18,
   "metadata": {
    "id": "6bAtxu7IroYK"
   },
   "outputs": [],
   "source": [
    "lr_model=random_cfl.best_estimator_\n",
    "lr_model.fit(X_train,y_train)\n",
    "pickle.dump(lr_model, open('logistic_model.sav', 'wb'))"
   ]
  },
  {
   "cell_type": "code",
   "execution_count": 19,
   "metadata": {
    "colab": {
     "base_uri": "https://localhost:8080/"
    },
    "id": "NTRoQDTcryO3",
    "outputId": "e476075d-2a6f-4bf5-93bf-4d5e27167426"
   },
   "outputs": [
    {
     "name": "stdout",
     "output_type": "stream",
     "text": [
      "Training_loss : 0.9090762202031348\n",
      "F1 train micro score : 0.6075971801625228\n",
      "F1 train macro score : 0.22045521432121917\n",
      "Testing_loss : 0.909227363803314\n",
      "F1 test micro score : 0.6074884785052628\n",
      "F1 train macro score : 0.22027517836185642\n"
     ]
    }
   ],
   "source": [
    "y_train_prob_pred=lr_model.predict_proba(X_train)\n",
    "y_cv_prob_pred=lr_model.predict_proba(X_cv)\n",
    "y_train_pred=lr_model.predict(X_train)\n",
    "y_cv_pred=lr_model.predict(X_cv)\n",
    "\n",
    "loss_train=log_loss(y_train,y_train_prob_pred)\n",
    "loss_test=log_loss(y_cv,y_cv_prob_pred)\n",
    "F1_train_micro=f1_score(y_train,y_train_pred,average='micro')\n",
    "F1_test_micro=f1_score(y_cv,y_cv_pred,average='micro')\n",
    "F1_train_macro=f1_score(y_train,y_train_pred,average='macro')\n",
    "F1_test_macro=f1_score(y_cv,y_cv_pred,average='macro')\n",
    "print('Training_loss :',loss_train)\n",
    "print('F1 train micro score :',F1_train_micro)\n",
    "print('F1 train macro score :',F1_train_macro)\n",
    "print('Testing_loss :',loss_test)\n",
    "print('F1 test micro score :',F1_test_micro)\n",
    "print('F1 train macro score :',F1_test_macro)"
   ]
  },
  {
   "cell_type": "code",
   "execution_count": 20,
   "metadata": {
    "colab": {
     "base_uri": "https://localhost:8080/",
     "height": 587
    },
    "id": "cvkoRxwWr2UD",
    "outputId": "a3d85515-72ce-4ba8-97e4-9693580aa576"
   },
   "outputs": [
    {
     "name": "stdout",
     "output_type": "stream",
     "text": [
      "Train data Confusion matrix\n"
     ]
    },
    {
     "data": {
      "image/png": "[encoded data removed]",
      "text/plain": [
       "<Figure size 432x288 with 2 Axes>"
      ]
     },
     "metadata": {
      "needs_background": "light",
      "tags": []
     },
     "output_type": "display_data"
    },
    {
     "name": "stdout",
     "output_type": "stream",
     "text": [
      "Test data Confusion matrix\n"
     ]
    },
    {
     "data": {
      "image/png": "[encoded data removed]",
      "text/plain": [
       "<Figure size 432x288 with 2 Axes>"
      ]
     },
     "metadata": {
      "needs_background": "light",
      "tags": []
     },
     "output_type": "display_data"
    }
   ],
   "source": [
    "def plot_confusion_matrix(y_true,y_predict):\n",
    "    X=confusion_matrix(y_true,y_predict)\n",
    "    labels=[1,2,3,4]    \n",
    "    sns.heatmap(X,annot=True,cmap=sns.light_palette(\"red\"))\n",
    "    plt.xlabel('Predicted Class')\n",
    "    plt.ylabel('Original Class')\n",
    "    plt.show()\n",
    "print('Train data Confusion matrix')\n",
    "plot_confusion_matrix(y_train,y_train_pred)\n",
    "print('Test data Confusion matrix')\n",
    "plot_confusion_matrix(y_cv,y_cv_pred)"
   ]
  },
  {
   "cell_type": "code",
   "execution_count": 21,
   "metadata": {
    "id": "-VChirJitPkC"
   },
   "outputs": [],
   "source": [
    "X_test_predict=lr_model.predict_proba(X_test)\n",
    "prediction=pd.DataFrame(X_test_predict,columns=['A','B','C','D']) \n",
    "prediction['id']=test_data['id']\n",
    "prediction=prediction[[\"id\",\"A\",\"B\",\"C\",\"D\"]]\n",
    "prediction.to_csv('lr_submission.csv',index=False)"
   ]
  },
  {
   "cell_type": "markdown",
   "metadata": {
    "id": "roE8d0dBSldA"
   },
   "source": [
    "# Random Forest Classifier"
   ]
  },
  {
   "cell_type": "code",
   "execution_count": null,
   "metadata": {
    "colab": {
     "base_uri": "https://localhost:8080/"
    },
    "id": "Aac-M3yNr6Hk",
    "outputId": "60e64761-8a9d-46a8-8636-9fe4b32a6b11"
   },
   "outputs": [
    {
     "name": "stdout",
     "output_type": "stream",
     "text": [
      "Fitting 3 folds for each of 10 candidates, totalling 30 fits\n"
     ]
    },
    {
     "name": "stderr",
     "output_type": "stream",
     "text": [
      "[Parallel(n_jobs=1)]: Using backend SequentialBackend with 1 concurrent workers.\n"
     ]
    },
    {
     "name": "stdout",
     "output_type": "stream",
     "text": [
      "[CV] n_estimators=50, min_samples_split=12, min_samples_leaf=6, max_depth=50 \n",
      "[CV]  n_estimators=50, min_samples_split=12, min_samples_leaf=6, max_depth=50, score=0.969, total=13.0min\n",
      "[CV] n_estimators=50, min_samples_split=12, min_samples_leaf=6, max_depth=50 \n"
     ]
    },
    {
     "name": "stderr",
     "output_type": "stream",
     "text": [
      "[Parallel(n_jobs=1)]: Done   1 out of   1 | elapsed: 13.0min remaining:    0.0s\n"
     ]
    },
    {
     "name": "stdout",
     "output_type": "stream",
     "text": [
      "[CV]  n_estimators=50, min_samples_split=12, min_samples_leaf=6, max_depth=50, score=0.970, total=13.1min\n",
      "[CV] n_estimators=50, min_samples_split=12, min_samples_leaf=6, max_depth=50 \n"
     ]
    },
    {
     "name": "stderr",
     "output_type": "stream",
     "text": [
      "[Parallel(n_jobs=1)]: Done   2 out of   2 | elapsed: 26.1min remaining:    0.0s\n"
     ]
    },
    {
     "name": "stdout",
     "output_type": "stream",
     "text": [
      "[CV]  n_estimators=50, min_samples_split=12, min_samples_leaf=6, max_depth=50, score=0.970, total=13.0min\n",
      "[CV] n_estimators=50, min_samples_split=12, min_samples_leaf=6, max_depth=30 \n"
     ]
    },
    {
     "name": "stderr",
     "output_type": "stream",
     "text": [
      "[Parallel(n_jobs=1)]: Done   3 out of   3 | elapsed: 39.1min remaining:    0.0s\n"
     ]
    },
    {
     "name": "stdout",
     "output_type": "stream",
     "text": [
      "[CV]  n_estimators=50, min_samples_split=12, min_samples_leaf=6, max_depth=30, score=0.963, total=12.5min\n",
      "[CV] n_estimators=50, min_samples_split=12, min_samples_leaf=6, max_depth=30 \n"
     ]
    },
    {
     "name": "stderr",
     "output_type": "stream",
     "text": [
      "[Parallel(n_jobs=1)]: Done   4 out of   4 | elapsed: 51.6min remaining:    0.0s\n"
     ]
    },
    {
     "name": "stdout",
     "output_type": "stream",
     "text": [
      "[CV]  n_estimators=50, min_samples_split=12, min_samples_leaf=6, max_depth=30, score=0.963, total=12.6min\n",
      "[CV] n_estimators=50, min_samples_split=12, min_samples_leaf=6, max_depth=30 \n"
     ]
    },
    {
     "name": "stderr",
     "output_type": "stream",
     "text": [
      "[Parallel(n_jobs=1)]: Done   5 out of   5 | elapsed: 64.2min remaining:    0.0s\n"
     ]
    },
    {
     "name": "stdout",
     "output_type": "stream",
     "text": [
      "[CV]  n_estimators=50, min_samples_split=12, min_samples_leaf=6, max_depth=30, score=0.963, total=12.6min\n",
      "[CV] n_estimators=50, min_samples_split=6, min_samples_leaf=1, max_depth=50 \n"
     ]
    },
    {
     "name": "stderr",
     "output_type": "stream",
     "text": [
      "[Parallel(n_jobs=1)]: Done   6 out of   6 | elapsed: 76.8min remaining:    0.0s\n"
     ]
    },
    {
     "name": "stdout",
     "output_type": "stream",
     "text": [
      "[CV]  n_estimators=50, min_samples_split=6, min_samples_leaf=1, max_depth=50, score=0.976, total=13.4min\n",
      "[CV] n_estimators=50, min_samples_split=6, min_samples_leaf=1, max_depth=50 \n"
     ]
    },
    {
     "name": "stderr",
     "output_type": "stream",
     "text": [
      "[Parallel(n_jobs=1)]: Done   7 out of   7 | elapsed: 90.3min remaining:    0.0s\n"
     ]
    },
    {
     "name": "stdout",
     "output_type": "stream",
     "text": [
      "[CV]  n_estimators=50, min_samples_split=6, min_samples_leaf=1, max_depth=50, score=0.977, total=12.9min\n",
      "[CV] n_estimators=50, min_samples_split=6, min_samples_leaf=1, max_depth=50 \n"
     ]
    },
    {
     "name": "stderr",
     "output_type": "stream",
     "text": [
      "[Parallel(n_jobs=1)]: Done   8 out of   8 | elapsed: 103.2min remaining:    0.0s\n"
     ]
    },
    {
     "name": "stdout",
     "output_type": "stream",
     "text": [
      "[CV]  n_estimators=50, min_samples_split=6, min_samples_leaf=1, max_depth=50, score=0.977, total=13.0min\n",
      "[CV] n_estimators=50, min_samples_split=4, min_samples_leaf=6, max_depth=30 \n"
     ]
    },
    {
     "name": "stderr",
     "output_type": "stream",
     "text": [
      "[Parallel(n_jobs=1)]: Done   9 out of   9 | elapsed: 116.2min remaining:    0.0s\n"
     ]
    },
    {
     "name": "stdout",
     "output_type": "stream",
     "text": [
      "[CV]  n_estimators=50, min_samples_split=4, min_samples_leaf=6, max_depth=30, score=0.963, total=12.5min\n",
      "[CV] n_estimators=50, min_samples_split=4, min_samples_leaf=6, max_depth=30 \n",
      "[CV]  n_estimators=50, min_samples_split=4, min_samples_leaf=6, max_depth=30, score=0.963, total=12.7min\n",
      "[CV] n_estimators=50, min_samples_split=4, min_samples_leaf=6, max_depth=30 \n",
      "[CV]  n_estimators=50, min_samples_split=4, min_samples_leaf=6, max_depth=30, score=0.964, total=12.4min\n",
      "[CV] n_estimators=50, min_samples_split=10, min_samples_leaf=1, max_depth=30 \n",
      "[CV]  n_estimators=50, min_samples_split=10, min_samples_leaf=1, max_depth=30, score=0.966, total=12.8min\n",
      "[CV] n_estimators=50, min_samples_split=10, min_samples_leaf=1, max_depth=30 \n",
      "[CV]  n_estimators=50, min_samples_split=10, min_samples_leaf=1, max_depth=30, score=0.966, total=12.7min\n",
      "[CV] n_estimators=50, min_samples_split=10, min_samples_leaf=1, max_depth=30 \n",
      "[CV]  n_estimators=50, min_samples_split=10, min_samples_leaf=1, max_depth=30, score=0.968, total=12.5min\n",
      "[CV] n_estimators=50, min_samples_split=6, min_samples_leaf=8, max_depth=10 \n",
      "[CV]  n_estimators=50, min_samples_split=6, min_samples_leaf=8, max_depth=10, score=0.856, total= 7.2min\n",
      "[CV] n_estimators=50, min_samples_split=6, min_samples_leaf=8, max_depth=10 \n",
      "[CV]  n_estimators=50, min_samples_split=6, min_samples_leaf=8, max_depth=10, score=0.862, total= 7.3min\n",
      "[CV] n_estimators=50, min_samples_split=6, min_samples_leaf=8, max_depth=10 \n",
      "[CV]  n_estimators=50, min_samples_split=6, min_samples_leaf=8, max_depth=10, score=0.851, total= 7.2min\n",
      "[CV] n_estimators=50, min_samples_split=10, min_samples_leaf=2, max_depth=50 \n",
      "[CV]  n_estimators=50, min_samples_split=10, min_samples_leaf=2, max_depth=50, score=0.975, total=13.0min\n",
      "[CV] n_estimators=50, min_samples_split=10, min_samples_leaf=2, max_depth=50 \n",
      "[CV]  n_estimators=50, min_samples_split=10, min_samples_leaf=2, max_depth=50, score=0.974, total=12.9min\n",
      "[CV] n_estimators=50, min_samples_split=10, min_samples_leaf=2, max_depth=50 \n",
      "[CV]  n_estimators=50, min_samples_split=10, min_samples_leaf=2, max_depth=50, score=0.974, total=13.0min\n",
      "[CV] n_estimators=50, min_samples_split=4, min_samples_leaf=2, max_depth=50 \n",
      "[CV]  n_estimators=50, min_samples_split=4, min_samples_leaf=2, max_depth=50, score=0.976, total=13.2min\n",
      "[CV] n_estimators=50, min_samples_split=4, min_samples_leaf=2, max_depth=50 \n",
      "[CV]  n_estimators=50, min_samples_split=4, min_samples_leaf=2, max_depth=50, score=0.976, total=13.0min\n",
      "[CV] n_estimators=50, min_samples_split=4, min_samples_leaf=2, max_depth=50 \n",
      "[CV]  n_estimators=50, min_samples_split=4, min_samples_leaf=2, max_depth=50, score=0.976, total=13.4min\n",
      "[CV] n_estimators=50, min_samples_split=4, min_samples_leaf=1, max_depth=50 \n",
      "[CV]  n_estimators=50, min_samples_split=4, min_samples_leaf=1, max_depth=50, score=0.978, total=13.6min\n",
      "[CV] n_estimators=50, min_samples_split=4, min_samples_leaf=1, max_depth=50 \n",
      "[CV]  n_estimators=50, min_samples_split=4, min_samples_leaf=1, max_depth=50, score=0.978, total=13.1min\n",
      "[CV] n_estimators=50, min_samples_split=4, min_samples_leaf=1, max_depth=50 \n",
      "[CV]  n_estimators=50, min_samples_split=4, min_samples_leaf=1, max_depth=50, score=0.977, total=13.0min\n",
      "[CV] n_estimators=50, min_samples_split=4, min_samples_leaf=8, max_depth=50 \n",
      "[CV]  n_estimators=50, min_samples_split=4, min_samples_leaf=8, max_depth=50, score=0.968, total=12.7min\n",
      "[CV] n_estimators=50, min_samples_split=4, min_samples_leaf=8, max_depth=50 \n",
      "[CV]  n_estimators=50, min_samples_split=4, min_samples_leaf=8, max_depth=50, score=0.967, total=13.0min\n",
      "[CV] n_estimators=50, min_samples_split=4, min_samples_leaf=8, max_depth=50 \n",
      "[CV]  n_estimators=50, min_samples_split=4, min_samples_leaf=8, max_depth=50, score=0.968, total=12.7min\n"
     ]
    },
    {
     "name": "stderr",
     "output_type": "stream",
     "text": [
      "[Parallel(n_jobs=1)]: Done  30 out of  30 | elapsed: 369.9min finished\n"
     ]
    },
    {
     "name": "stdout",
     "output_type": "stream",
     "text": [
      "RandomForestClassifier(bootstrap=True, ccp_alpha=0.0, class_weight=None,\n",
      "                       criterion='gini', max_depth=50, max_features='auto',\n",
      "                       max_leaf_nodes=None, max_samples=None,\n",
      "                       min_impurity_decrease=0.0, min_impurity_split=None,\n",
      "                       min_samples_leaf=1, min_samples_split=4,\n",
      "                       min_weight_fraction_leaf=0.0, n_estimators=50,\n",
      "                       n_jobs=None, oob_score=False, random_state=None,\n",
      "                       verbose=0, warm_start=False)\n"
     ]
    }
   ],
   "source": [
    "x_cfl=RandomForestClassifier()\n",
    "prams={\n",
    "     \"n_estimators\":[50],\n",
    "     \"max_depth\":[10,30,50],\n",
    "     \"min_samples_split\":[4,6,8,10,12],\n",
    "     \"min_samples_leaf\": [1,2,4,6,8]\n",
    "}\n",
    "random_cfl=RandomizedSearchCV(x_cfl,param_distributions=prams,cv=3,verbose=10)\n",
    "random_cfl.fit(X_train,y_train)\n",
    "print(random_cfl.best_estimator_)"
   ]
  },
  {
   "cell_type": "code",
   "execution_count": null,
   "metadata": {
    "id": "qREMMf1yscaF"
   },
   "outputs": [],
   "source": [
    "import pickle\n",
    "rf_model=RandomForestClassifier(bootstrap=True, ccp_alpha=0.0, class_weight=None,\n",
    "                       criterion='gini', max_depth=50, max_features='auto',\n",
    "                       max_leaf_nodes=None, max_samples=None,\n",
    "                       min_impurity_decrease=0.0, min_impurity_split=None,\n",
    "                       min_samples_leaf=1, min_samples_split=4,\n",
    "                       min_weight_fraction_leaf=0.0, n_estimators=50,\n",
    "                       n_jobs=None, oob_score=False, random_state=None,\n",
    "                       verbose=0, warm_start=False)\n",
    "rf_model.fit(X_train,y_train)\n",
    "pickle.dump(rf_model, open('random_forest.sav', 'wb'))"
   ]
  },
  {
   "cell_type": "code",
   "execution_count": null,
   "metadata": {
    "colab": {
     "base_uri": "https://localhost:8080/"
    },
    "id": "n7QFyHRVsmxj",
    "outputId": "79f7360f-5edc-4e0e-9f6c-7ce7f89a5e36"
   },
   "outputs": [
    {
     "name": "stdout",
     "output_type": "stream",
     "text": [
      "Training_loss : 0.027421430271854615\n",
      "F1 train micro score : 0.9997918130481173\n",
      "F1 train macro score : 0.9994167609063315\n",
      "Testing_loss : 0.07211414439339871\n",
      "F1 test micro score : 0.9814333002425923\n",
      "F1 train macro score : 0.9485086197165244\n"
     ]
    }
   ],
   "source": [
    "from sklearn.metrics import log_loss\n",
    "from sklearn.metrics import f1_score\n",
    "y_train_prob_pred=rf_model.predict_proba(X_train)\n",
    "y_cv_prob_pred=rf_model.predict_proba(X_cv)\n",
    "y_train_pred=rf_model.predict(X_train)\n",
    "y_cv_pred=rf_model.predict(X_cv)\n",
    "\n",
    "loss_train=log_loss(y_train,y_train_prob_pred)\n",
    "loss_test=log_loss(y_cv,y_cv_prob_pred)\n",
    "F1_train_micro=f1_score(y_train,y_train_pred,average='micro')\n",
    "F1_test_micro=f1_score(y_cv,y_cv_pred,average='micro')\n",
    "F1_train_macro=f1_score(y_train,y_train_pred,average='macro')\n",
    "F1_test_macro=f1_score(y_cv,y_cv_pred,average='macro')\n",
    "print('Training_loss :',loss_train)\n",
    "print('F1 train micro score :',F1_train_micro)\n",
    "print('F1 train macro score :',F1_train_macro)\n",
    "print('Testing_loss :',loss_test)\n",
    "print('F1 test micro score :',F1_test_micro)\n",
    "print('F1 train macro score :',F1_test_macro)"
   ]
  },
  {
   "cell_type": "code",
   "execution_count": null,
   "metadata": {
    "colab": {
     "base_uri": "https://localhost:8080/",
     "height": 587
    },
    "id": "sTBsEK9msnct",
    "outputId": "8ab12e19-10a3-4bbd-9fe2-bedfbbd3890c"
   },
   "outputs": [
    {
     "name": "stdout",
     "output_type": "stream",
     "text": [
      "Train data Confusion matrix\n"
     ]
    },
    {
     "data": {
      "image/png": "[encoded data removed]",
      "text/plain": [
       "<Figure size 432x288 with 2 Axes>"
      ]
     },
     "metadata": {
      "needs_background": "light",
      "tags": []
     },
     "output_type": "display_data"
    },
    {
     "name": "stdout",
     "output_type": "stream",
     "text": [
      "Test data Confusion matrix\n"
     ]
    },
    {
     "data": {
      "image/png": "[encoded data removed]",
      "text/plain": [
       "<Figure size 432x288 with 2 Axes>"
      ]
     },
     "metadata": {
      "needs_background": "light",
      "tags": []
     },
     "output_type": "display_data"
    }
   ],
   "source": [
    "def plot_confusion_matrix(y_true,y_predict):\n",
    "    X=confusion_matrix(y_true,y_predict)\n",
    "    labels=[1,2,3,4]    \n",
    "    sns.heatmap(X,annot=True,cmap=sns.light_palette(\"red\"))\n",
    "    plt.xlabel('Predicted Class')\n",
    "    plt.ylabel('Original Class')\n",
    "    plt.show()\n",
    "print('Train data Confusion matrix')\n",
    "plot_confusion_matrix(y_train,y_train_pred)\n",
    "print('Test data Confusion matrix')\n",
    "plot_confusion_matrix(y_cv,y_cv_pred)"
   ]
  },
  {
   "cell_type": "code",
   "execution_count": null,
   "metadata": {
    "id": "XZhmUtCgsu2G"
   },
   "outputs": [],
   "source": [
    "X_test_predict=rf_model.predict_proba(X_test)\n",
    "prediction=pd.DataFrame(X_test_predict,columns=['A','B','C','D']) \n",
    "prediction['id']=test_data['id']\n",
    "prediction=prediction[[\"id\",\"A\",\"B\",\"C\",\"D\"]]\n",
    "prediction.to_csv('rf_submission.csv',index=False)"
   ]
  },
  {
   "cell_type": "markdown",
   "metadata": {
    "id": "kyLmjURdSldD"
   },
   "source": [
    "# MLP"
   ]
  },
  {
   "cell_type": "code",
   "execution_count": null,
   "metadata": {
    "id": "PBljkdFrHVfP"
   },
   "outputs": [],
   "source": [
    "y_train=pd.get_dummies(y_train).values\n",
    "y_cv=pd.get_dummies(y_cv).values"
   ]
  },
  {
   "cell_type": "code",
   "execution_count": null,
   "metadata": {
    "colab": {
     "base_uri": "https://localhost:8080/"
    },
    "id": "5wRFyYTXJCzZ",
    "outputId": "e443bb73-0332-49bf-a7c5-22f987fa541a"
   },
   "outputs": [
    {
     "name": "stdout",
     "output_type": "stream",
     "text": [
      "Model: \"model\"\n",
      "_________________________________________________________________\n",
      "Layer (type)                 Output Shape              Param #   \n",
      "=================================================================\n",
      "input_3 (InputLayer)         [(None, 12, 1)]           0         \n",
      "_________________________________________________________________\n",
      "conv1d_4 (Conv1D)            (None, 10, 64)            256       \n",
      "_________________________________________________________________\n",
      "max_pooling1d_4 (MaxPooling1 (None, 5, 64)             0         \n",
      "_________________________________________________________________\n",
      "conv1d_5 (Conv1D)            (None, 3, 32)             6176      \n",
      "_________________________________________________________________\n",
      "max_pooling1d_5 (MaxPooling1 (None, 2, 32)             0         \n",
      "_________________________________________________________________\n",
      "Flatten (Flatten)            (None, 64)                0         \n",
      "_________________________________________________________________\n",
      "dense_4 (Dense)              (None, 64)                4160      \n",
      "_________________________________________________________________\n",
      "dropout_4 (Dropout)          (None, 64)                0         \n",
      "_________________________________________________________________\n",
      "dense_5 (Dense)              (None, 32)                2080      \n",
      "_________________________________________________________________\n",
      "dropout_5 (Dropout)          (None, 32)                0         \n",
      "_________________________________________________________________\n",
      "Output (Dense)               (None, 4)                 132       \n",
      "=================================================================\n",
      "Total params: 12,804\n",
      "Trainable params: 12,804\n",
      "Non-trainable params: 0\n",
      "_________________________________________________________________\n"
     ]
    }
   ],
   "source": [
    "input_x =Input(shape=(12,1))\n",
    "\n",
    "conv_1=Conv1D(64,3, activation='relu')(input_x)\n",
    "max_pool_1=MaxPool1D(pool_size=2,padding='same')(conv_1)\n",
    "\n",
    "conv_1=Conv1D(32,3, activation='relu')(max_pool_1)\n",
    "max_pool_1=MaxPool1D(pool_size=2,padding='same')(conv_1)\n",
    "\n",
    "flattern_layer=Flatten(data_format='channels_last',name='Flatten')(max_pool_1)\n",
    "\n",
    "Dense1 = Dense(units=64,activation='relu',kernel_initializer=tf.keras.initializers.HeUniform(seed=33))(flattern_layer)\n",
    "Dropout_1=Dropout(0.3)(Dense1)\n",
    "\n",
    "Dense1 = Dense(units=32,activation='relu',kernel_initializer=tf.keras.initializers.HeUniform(seed=33))(Dropout_1)\n",
    "Dropout_1=Dropout(0.3)(Dense1)\n",
    "\n",
    "Out = Dense(units=4,activation='softmax',kernel_initializer=tf.keras.initializers.HeUniform(seed=3),name='Output')(Dropout_1)\n",
    "model = Model(inputs=input_x, outputs=Out)\n",
    "model.summary()"
   ]
  },
  {
   "cell_type": "code",
   "execution_count": null,
   "metadata": {
    "colab": {
     "base_uri": "https://localhost:8080/"
    },
    "id": "KP3MOnqCJH8o",
    "outputId": "ef467ed4-7448-45a3-d768-7c7da2e46d73"
   },
   "outputs": [
    {
     "name": "stdout",
     "output_type": "stream",
     "text": [
      "Epoch 1/20\n",
      "366/366 [==============================] - 38s 18ms/step - loss: 0.9809 - f1_score_micro: 0.5708 - f1_score_macro: 0.2739 - val_loss: 0.5390 - val_f1_score_micro: 0.8137 - val_f1_score_macro: 0.4211\n",
      "Epoch 2/20\n",
      "366/366 [==============================] - 6s 17ms/step - loss: 0.5404 - f1_score_micro: 0.8224 - f1_score_macro: 0.4253 - val_loss: 0.4331 - val_f1_score_micro: 0.8545 - val_f1_score_macro: 0.4443\n",
      "Epoch 3/20\n",
      "366/366 [==============================] - 6s 17ms/step - loss: 0.4460 - f1_score_micro: 0.8561 - f1_score_macro: 0.4452 - val_loss: 0.3992 - val_f1_score_micro: 0.8648 - val_f1_score_macro: 0.4500\n",
      "Epoch 4/20\n",
      "366/366 [==============================] - 6s 17ms/step - loss: 0.4048 - f1_score_micro: 0.8676 - f1_score_macro: 0.4526 - val_loss: 0.3614 - val_f1_score_micro: 0.8759 - val_f1_score_macro: 0.4567\n",
      "Epoch 5/20\n",
      "366/366 [==============================] - 6s 17ms/step - loss: 0.3809 - f1_score_micro: 0.8734 - f1_score_macro: 0.4564 - val_loss: 0.3509 - val_f1_score_micro: 0.8771 - val_f1_score_macro: 0.4581\n",
      "Epoch 6/20\n",
      "366/366 [==============================] - 6s 17ms/step - loss: 0.3669 - f1_score_micro: 0.8766 - f1_score_macro: 0.4594 - val_loss: 0.3512 - val_f1_score_micro: 0.8757 - val_f1_score_macro: 0.4588\n",
      "Epoch 7/20\n",
      "366/366 [==============================] - 6s 17ms/step - loss: 0.3582 - f1_score_micro: 0.8783 - f1_score_macro: 0.4613 - val_loss: 0.3415 - val_f1_score_micro: 0.8779 - val_f1_score_macro: 0.4602\n",
      "Epoch 8/20\n",
      "366/366 [==============================] - 6s 17ms/step - loss: 0.3488 - f1_score_micro: 0.8807 - f1_score_macro: 0.4631 - val_loss: 0.3222 - val_f1_score_micro: 0.8855 - val_f1_score_macro: 0.4650\n",
      "Epoch 9/20\n",
      "366/366 [==============================] - 6s 17ms/step - loss: 0.3405 - f1_score_micro: 0.8829 - f1_score_macro: 0.4656 - val_loss: 0.3211 - val_f1_score_micro: 0.8850 - val_f1_score_macro: 0.4646\n",
      "Epoch 10/20\n",
      "366/366 [==============================] - 6s 17ms/step - loss: 0.3356 - f1_score_micro: 0.8838 - f1_score_macro: 0.4664 - val_loss: 0.3119 - val_f1_score_micro: 0.8881 - val_f1_score_macro: 0.4676\n",
      "Epoch 11/20\n",
      "366/366 [==============================] - 6s 17ms/step - loss: 0.3295 - f1_score_micro: 0.8853 - f1_score_macro: 0.4687 - val_loss: 0.3104 - val_f1_score_micro: 0.8880 - val_f1_score_macro: 0.4678\n",
      "Epoch 12/20\n",
      "366/366 [==============================] - 6s 17ms/step - loss: 0.3253 - f1_score_micro: 0.8863 - f1_score_macro: 0.4700 - val_loss: 0.3027 - val_f1_score_micro: 0.8910 - val_f1_score_macro: 0.4692\n",
      "Epoch 13/20\n",
      "366/366 [==============================] - 6s 17ms/step - loss: 0.3206 - f1_score_micro: 0.8875 - f1_score_macro: 0.4719 - val_loss: 0.3067 - val_f1_score_micro: 0.8891 - val_f1_score_macro: 0.4732\n",
      "Epoch 14/20\n",
      "366/366 [==============================] - 6s 17ms/step - loss: 0.3169 - f1_score_micro: 0.8889 - f1_score_macro: 0.4743 - val_loss: 0.2985 - val_f1_score_micro: 0.8914 - val_f1_score_macro: 0.4722\n",
      "Epoch 15/20\n",
      "366/366 [==============================] - 6s 17ms/step - loss: 0.3141 - f1_score_micro: 0.8899 - f1_score_macro: 0.4762 - val_loss: 0.2925 - val_f1_score_micro: 0.8935 - val_f1_score_macro: 0.4738\n",
      "Epoch 16/20\n",
      "366/366 [==============================] - 6s 17ms/step - loss: 0.3108 - f1_score_micro: 0.8906 - f1_score_macro: 0.4803 - val_loss: 0.2917 - val_f1_score_micro: 0.8943 - val_f1_score_macro: 0.4733\n",
      "Epoch 17/20\n",
      "366/366 [==============================] - 6s 17ms/step - loss: 0.3078 - f1_score_micro: 0.8915 - f1_score_macro: 0.4827 - val_loss: 0.2895 - val_f1_score_micro: 0.8947 - val_f1_score_macro: 0.4770\n",
      "Epoch 18/20\n",
      "366/366 [==============================] - 6s 17ms/step - loss: 0.3059 - f1_score_micro: 0.8922 - f1_score_macro: 0.4852 - val_loss: 0.3003 - val_f1_score_micro: 0.8913 - val_f1_score_macro: 0.4705\n",
      "Epoch 19/20\n",
      "366/366 [==============================] - 6s 17ms/step - loss: 0.3022 - f1_score_micro: 0.8934 - f1_score_macro: 0.4885 - val_loss: 0.2836 - val_f1_score_micro: 0.8969 - val_f1_score_macro: 0.4768\n",
      "Epoch 20/20\n",
      "366/366 [==============================] - 6s 17ms/step - loss: 0.2995 - f1_score_micro: 0.8944 - f1_score_macro: 0.4903 - val_loss: 0.2868 - val_f1_score_micro: 0.8950 - val_f1_score_macro: 0.4860\n"
     ]
    }
   ],
   "source": [
    "model.compile(loss='categorical_crossentropy', optimizer='Adam',\n",
    "          metrics=[tfa.metrics.F1Score(num_classes=4,name='f1_score_micro',average='micro'),tfa.metrics.F1Score(num_classes=4,name='f1_score_macro',average='macro')])\n",
    "history=model.fit(X_train,y_train,epochs=20,batch_size=10000,validation_data=(X_cv,y_cv))\n"
   ]
  },
  {
   "cell_type": "code",
   "execution_count": null,
   "metadata": {
    "colab": {
     "base_uri": "https://localhost:8080/",
     "height": 80
    },
    "id": "5EpMBRlaF8eC",
    "outputId": "2535bb1c-bc15-42b0-a887-1f341499c1ee"
   },
   "outputs": [
    {
     "data": {
      "text/html": [
       "<div>\n",
       "<style scoped>\n",
       "    .dataframe tbody tr th:only-of-type {\n",
       "        vertical-align: middle;\n",
       "    }\n",
       "\n",
       "    .dataframe tbody tr th {\n",
       "        vertical-align: top;\n",
       "    }\n",
       "\n",
       "    .dataframe thead th {\n",
       "        text-align: right;\n",
       "    }\n",
       "</style>\n",
       "<table border=\"1\" class=\"dataframe\">\n",
       "  <thead>\n",
       "    <tr style=\"text-align: right;\">\n",
       "      <th></th>\n",
       "      <th>id</th>\n",
       "      <th>A</th>\n",
       "      <th>B</th>\n",
       "      <th>C</th>\n",
       "      <th>D</th>\n",
       "    </tr>\n",
       "  </thead>\n",
       "  <tbody>\n",
       "    <tr>\n",
       "      <th>0</th>\n",
       "      <td>0</td>\n",
       "      <td>0.861164</td>\n",
       "      <td>0.138836</td>\n",
       "      <td>5.424082e-10</td>\n",
       "      <td>4.357612e-38</td>\n",
       "    </tr>\n",
       "  </tbody>\n",
       "</table>\n",
       "</div>"
      ],
      "text/plain": [
       "   id         A         B             C             D\n",
       "0   0  0.861164  0.138836  5.424082e-10  4.357612e-38"
      ]
     },
     "execution_count": 14,
     "metadata": {
      "tags": []
     },
     "output_type": "execute_result"
    }
   ],
   "source": [
    "X_test_predict=model.predict(X_test)\n",
    "prediction=pd.DataFrame(X_test_predict,columns=['A','B','C','D']) \n",
    "prediction['id']=test_data['id']\n",
    "prediction=prediction[[\"id\",\"A\",\"B\",\"C\",\"D\"]]\n",
    "prediction.to_csv('mlp_submission.csv',index=False)\n",
    "prediction.head(1)"
   ]
  },
  {
   "cell_type": "code",
   "execution_count": null,
   "metadata": {
    "colab": {
     "base_uri": "https://localhost:8080/",
     "height": 34
    },
    "id": "RRF1T5lCKtnZ",
    "outputId": "70f75d4f-dc63-490b-c45e-3b040c2f64c9"
   },
   "outputs": [
    {
     "data": {
      "application/javascript": [
       "\n",
       "    async function download(id, filename, size) {\n",
       "      if (!google.colab.kernel.accessAllowed) {\n",
       "        return;\n",
       "      }\n",
       "      const div = document.createElement('div');\n",
       "      const label = document.createElement('label');\n",
       "      label.textContent = `Downloading \"${filename}\": `;\n",
       "      div.appendChild(label);\n",
       "      const progress = document.createElement('progress');\n",
       "      progress.max = size;\n",
       "      div.appendChild(progress);\n",
       "      document.body.appendChild(div);\n",
       "\n",
       "      const buffers = [];\n",
       "      let downloaded = 0;\n",
       "\n",
       "      const channel = await google.colab.kernel.comms.open(id);\n",
       "      // Send a message to notify the kernel that we're ready.\n",
       "      channel.send({})\n",
       "\n",
       "      for await (const message of channel.messages) {\n",
       "        // Send a message to notify the kernel that we're ready.\n",
       "        channel.send({})\n",
       "        if (message.buffers) {\n",
       "          for (const buffer of message.buffers) {\n",
       "            buffers.push(buffer);\n",
       "            downloaded += buffer.byteLength;\n",
       "            progress.value = downloaded;\n",
       "          }\n",
       "        }\n",
       "      }\n",
       "      const blob = new Blob(buffers, {type: 'application/binary'});\n",
       "      const a = document.createElement('a');\n",
       "      a.href = window.URL.createObjectURL(blob);\n",
       "      a.download = filename;\n",
       "      div.appendChild(a);\n",
       "      a.click();\n",
       "      div.remove();\n",
       "    }\n",
       "  "
      ],
      "text/plain": [
       "<IPython.core.display.Javascript object>"
      ]
     },
     "metadata": {
      "tags": []
     },
     "output_type": "display_data"
    },
    {
     "data": {
      "application/javascript": [
       "download(\"download_fea28f47-95af-44e4-a325-47e9a8ca22a1\", \"mlp_submission.csv\", 1001828231)"
      ],
      "text/plain": [
       "<IPython.core.display.Javascript object>"
      ]
     },
     "metadata": {
      "tags": []
     },
     "output_type": "display_data"
    }
   ],
   "source": [
    "model.save('model.h5')\n",
    "from google.colab import files\n",
    "files.download('mlp_submission.csv')"
   ]
  },
  {
   "cell_type": "code",
   "execution_count": null,
   "metadata": {
    "colab": {
     "base_uri": "https://localhost:8080/",
     "height": 265
    },
    "id": "QElFa507DQAZ",
    "outputId": "0f4f5b89-1ffc-4e10-afe8-c509d7a8645d"
   },
   "outputs": [
    {
     "data": {
      "image/png": "[encoded data removed]",
      "text/plain": [
       "<Figure size 432x288 with 1 Axes>"
      ]
     },
     "metadata": {
      "needs_background": "light",
      "tags": []
     },
     "output_type": "display_data"
    }
   ],
   "source": [
    "epochs=[]\n",
    "for i in range(20):\n",
    "    epochs.append(i+1)\n",
    "import matplotlib.pyplot as plt\n",
    "plt.plot(epochs,history.history['f1_score_micro'],label='f1_score_micro')\n",
    "plt.plot(epochs,history.history['val_f1_score_micro'],label='val_f1_score_micro')\n",
    "\n",
    "plt.plot()\n",
    "plt.legend()\n",
    "plt.show()"
   ]
  },
  {
   "cell_type": "code",
   "execution_count": null,
   "metadata": {
    "colab": {
     "base_uri": "https://localhost:8080/",
     "height": 265
    },
    "id": "B98vUq16DXRd",
    "outputId": "bf3d2fca-f050-4432-9de4-af5d9d2f49a9"
   },
   "outputs": [
    {
     "data": {
      "image/png": "[encoded data removed]",
      "text/plain": [
       "<Figure size 432x288 with 1 Axes>"
      ]
     },
     "metadata": {
      "needs_background": "light",
      "tags": []
     },
     "output_type": "display_data"
    }
   ],
   "source": [
    "plt.plot(epochs,history.history['loss'],label='loss')\n",
    "plt.plot(epochs,history.history['val_loss'],label='val_loss')\n",
    "\n",
    "plt.plot()\n",
    "plt.legend()\n",
    "plt.show()"
   ]
  },
  {
   "cell_type": "code",
   "execution_count": null,
   "metadata": {
    "colab": {
     "base_uri": "https://localhost:8080/",
     "height": 265
    },
    "id": "EmEOK_k2DbBJ",
    "outputId": "adae1222-c5a5-43e4-a898-e7fe4092f9db"
   },
   "outputs": [
    {
     "data": {
      "image/png": "[encoded data removed]",
      "text/plain": [
       "<Figure size 432x288 with 1 Axes>"
      ]
     },
     "metadata": {
      "needs_background": "light",
      "tags": []
     },
     "output_type": "display_data"
    }
   ],
   "source": [
    "plt.plot(epochs,history.history['f1_score_macro'],label='f1_score_macro')\n",
    "plt.plot(epochs,history.history['val_f1_score_macro'],label='val_f1_score_macro')\n",
    "\n",
    "plt.plot()\n",
    "plt.legend()\n",
    "plt.show()"
   ]
  },
  {
   "cell_type": "markdown",
   "metadata": {
    "id": "pH4FM_9QDXVA"
   },
   "source": [
    "# Model Summary\n",
    "\n",
    "            1.Logistic regression \n",
    "                          Training loss  -0.9095278974268775\n",
    "                          Testing loss   -0.9096949653798138\n",
    "            2.LGBT classification\n",
    "                          Training loss  -0.1662291449525615\n",
    "                          Testing loss   -0.16903759494353826\n",
    "            3.Random Forest Classification\n",
    "                          Training loss  -0.027421430271854615\n",
    "                          Testing Loss   -0.07211414439339871\n",
    "            4.Multi layer perception -\n",
    "                          Training loss  -0.2995\n",
    "                          Testing Loss   -0.2868"
   ]
  },
  {
   "cell_type": "markdown",
   "metadata": {
    "id": "kOhhSc2KSldG"
   },
   "source": [
    "# KAGGLE SCORE\n",
    "\n",
    "\n"
   ]
  },
  {
   "attachments": {
    "lgbt_mlp_logistic.png": {
     "image/png": "[encoded data removed]"
    },
    "random_forest.png": {
     "image/png": "[encoded data removed]"
    }
   },
   "cell_type": "markdown",
   "metadata": {
    "id": "eHhjTgoFSldH"
   },
   "source": [
    "![lgbt_mlp_logistic.png](attachment:lgbt_mlp_logistic.png)\n",
    "!![random_forest.png](attachment:random_forest.png)"
   ]
  },
  {
   "cell_type": "code",
   "execution_count": null,
   "metadata": {
    "id": "shC-W0ntSldH"
   },
   "outputs": [],
   "source": []
  }
 ],
 "metadata": {
  "accelerator": "GPU",
  "colab": {
   "collapsed_sections": [],
   "machine_shape": "hm",
   "name": "All_Models",
   "provenance": []
  },
  "kernelspec": {
   "display_name": "Python 3",
   "language": "python",
   "name": "python3"
  },
  "language_info": {
   "codemirror_mode": {
    "name": "ipython",
    "version": 3
   },
   "file_extension": ".py",
   "mimetype": "text/x-python",
   "name": "python",
   "nbconvert_exporter": "python",
   "pygments_lexer": "ipython3",
   "version": "3.7.1"
  }
 },
 "nbformat": 4,
 "nbformat_minor": 1
}
